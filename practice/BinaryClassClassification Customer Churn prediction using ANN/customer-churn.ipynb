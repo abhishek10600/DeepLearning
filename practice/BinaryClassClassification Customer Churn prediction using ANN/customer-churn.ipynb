{
 "cells": [
  {
   "cell_type": "code",
   "execution_count": 1,
   "id": "e8bc8787",
   "metadata": {
    "_cell_guid": "b1076dfc-b9ad-4769-8c92-a6c4dae69d19",
    "_uuid": "8f2839f25d086af736a60e9eeb907d3b93b6e0e5",
    "execution": {
     "iopub.execute_input": "2024-05-29T13:25:16.950681Z",
     "iopub.status.busy": "2024-05-29T13:25:16.950242Z",
     "iopub.status.idle": "2024-05-29T13:25:17.826101Z",
     "shell.execute_reply": "2024-05-29T13:25:17.824522Z"
    },
    "papermill": {
     "duration": 0.893442,
     "end_time": "2024-05-29T13:25:17.829460",
     "exception": false,
     "start_time": "2024-05-29T13:25:16.936018",
     "status": "completed"
    },
    "tags": []
   },
   "outputs": [
    {
     "name": "stdout",
     "output_type": "stream",
     "text": [
      "/kaggle/input/credit-card-customer-churn-prediction/Churn_Modelling.csv\n"
     ]
    }
   ],
   "source": [
    "# This Python 3 environment comes with many helpful analytics libraries installed\n",
    "# It is defined by the kaggle/python Docker image: https://github.com/kaggle/docker-python\n",
    "# For example, here's several helpful packages to load\n",
    "\n",
    "import numpy as np # linear algebra\n",
    "import pandas as pd # data processing, CSV file I/O (e.g. pd.read_csv)\n",
    "\n",
    "# Input data files are available in the read-only \"../input/\" directory\n",
    "# For example, running this (by clicking run or pressing Shift+Enter) will list all files under the input directory\n",
    "\n",
    "import os\n",
    "for dirname, _, filenames in os.walk('/kaggle/input'):\n",
    "    for filename in filenames:\n",
    "        print(os.path.join(dirname, filename))\n",
    "\n",
    "# You can write up to 20GB to the current directory (/kaggle/working/) that gets preserved as output when you create a version using \"Save & Run All\" \n",
    "# You can also write temporary files to /kaggle/temp/, but they won't be saved outside of the current session"
   ]
  },
  {
   "cell_type": "code",
   "execution_count": 2,
   "id": "bfc5ebea",
   "metadata": {
    "execution": {
     "iopub.execute_input": "2024-05-29T13:25:17.857044Z",
     "iopub.status.busy": "2024-05-29T13:25:17.856448Z",
     "iopub.status.idle": "2024-05-29T13:25:17.908401Z",
     "shell.execute_reply": "2024-05-29T13:25:17.906967Z"
    },
    "papermill": {
     "duration": 0.068739,
     "end_time": "2024-05-29T13:25:17.911728",
     "exception": false,
     "start_time": "2024-05-29T13:25:17.842989",
     "status": "completed"
    },
    "tags": []
   },
   "outputs": [],
   "source": [
    "df = pd.read_csv(\"/kaggle/input/credit-card-customer-churn-prediction/Churn_Modelling.csv\")"
   ]
  },
  {
   "cell_type": "code",
   "execution_count": 3,
   "id": "7ff11742",
   "metadata": {
    "execution": {
     "iopub.execute_input": "2024-05-29T13:25:17.938570Z",
     "iopub.status.busy": "2024-05-29T13:25:17.938166Z",
     "iopub.status.idle": "2024-05-29T13:25:17.969071Z",
     "shell.execute_reply": "2024-05-29T13:25:17.967884Z"
    },
    "papermill": {
     "duration": 0.047677,
     "end_time": "2024-05-29T13:25:17.971712",
     "exception": false,
     "start_time": "2024-05-29T13:25:17.924035",
     "status": "completed"
    },
    "tags": []
   },
   "outputs": [
    {
     "data": {
      "text/html": [
       "<div>\n",
       "<style scoped>\n",
       "    .dataframe tbody tr th:only-of-type {\n",
       "        vertical-align: middle;\n",
       "    }\n",
       "\n",
       "    .dataframe tbody tr th {\n",
       "        vertical-align: top;\n",
       "    }\n",
       "\n",
       "    .dataframe thead th {\n",
       "        text-align: right;\n",
       "    }\n",
       "</style>\n",
       "<table border=\"1\" class=\"dataframe\">\n",
       "  <thead>\n",
       "    <tr style=\"text-align: right;\">\n",
       "      <th></th>\n",
       "      <th>RowNumber</th>\n",
       "      <th>CustomerId</th>\n",
       "      <th>Surname</th>\n",
       "      <th>CreditScore</th>\n",
       "      <th>Geography</th>\n",
       "      <th>Gender</th>\n",
       "      <th>Age</th>\n",
       "      <th>Tenure</th>\n",
       "      <th>Balance</th>\n",
       "      <th>NumOfProducts</th>\n",
       "      <th>HasCrCard</th>\n",
       "      <th>IsActiveMember</th>\n",
       "      <th>EstimatedSalary</th>\n",
       "      <th>Exited</th>\n",
       "    </tr>\n",
       "  </thead>\n",
       "  <tbody>\n",
       "    <tr>\n",
       "      <th>0</th>\n",
       "      <td>1</td>\n",
       "      <td>15634602</td>\n",
       "      <td>Hargrave</td>\n",
       "      <td>619</td>\n",
       "      <td>France</td>\n",
       "      <td>Female</td>\n",
       "      <td>42</td>\n",
       "      <td>2</td>\n",
       "      <td>0.00</td>\n",
       "      <td>1</td>\n",
       "      <td>1</td>\n",
       "      <td>1</td>\n",
       "      <td>101348.88</td>\n",
       "      <td>1</td>\n",
       "    </tr>\n",
       "    <tr>\n",
       "      <th>1</th>\n",
       "      <td>2</td>\n",
       "      <td>15647311</td>\n",
       "      <td>Hill</td>\n",
       "      <td>608</td>\n",
       "      <td>Spain</td>\n",
       "      <td>Female</td>\n",
       "      <td>41</td>\n",
       "      <td>1</td>\n",
       "      <td>83807.86</td>\n",
       "      <td>1</td>\n",
       "      <td>0</td>\n",
       "      <td>1</td>\n",
       "      <td>112542.58</td>\n",
       "      <td>0</td>\n",
       "    </tr>\n",
       "    <tr>\n",
       "      <th>2</th>\n",
       "      <td>3</td>\n",
       "      <td>15619304</td>\n",
       "      <td>Onio</td>\n",
       "      <td>502</td>\n",
       "      <td>France</td>\n",
       "      <td>Female</td>\n",
       "      <td>42</td>\n",
       "      <td>8</td>\n",
       "      <td>159660.80</td>\n",
       "      <td>3</td>\n",
       "      <td>1</td>\n",
       "      <td>0</td>\n",
       "      <td>113931.57</td>\n",
       "      <td>1</td>\n",
       "    </tr>\n",
       "    <tr>\n",
       "      <th>3</th>\n",
       "      <td>4</td>\n",
       "      <td>15701354</td>\n",
       "      <td>Boni</td>\n",
       "      <td>699</td>\n",
       "      <td>France</td>\n",
       "      <td>Female</td>\n",
       "      <td>39</td>\n",
       "      <td>1</td>\n",
       "      <td>0.00</td>\n",
       "      <td>2</td>\n",
       "      <td>0</td>\n",
       "      <td>0</td>\n",
       "      <td>93826.63</td>\n",
       "      <td>0</td>\n",
       "    </tr>\n",
       "    <tr>\n",
       "      <th>4</th>\n",
       "      <td>5</td>\n",
       "      <td>15737888</td>\n",
       "      <td>Mitchell</td>\n",
       "      <td>850</td>\n",
       "      <td>Spain</td>\n",
       "      <td>Female</td>\n",
       "      <td>43</td>\n",
       "      <td>2</td>\n",
       "      <td>125510.82</td>\n",
       "      <td>1</td>\n",
       "      <td>1</td>\n",
       "      <td>1</td>\n",
       "      <td>79084.10</td>\n",
       "      <td>0</td>\n",
       "    </tr>\n",
       "  </tbody>\n",
       "</table>\n",
       "</div>"
      ],
      "text/plain": [
       "   RowNumber  CustomerId   Surname  CreditScore Geography  Gender  Age  \\\n",
       "0          1    15634602  Hargrave          619    France  Female   42   \n",
       "1          2    15647311      Hill          608     Spain  Female   41   \n",
       "2          3    15619304      Onio          502    France  Female   42   \n",
       "3          4    15701354      Boni          699    France  Female   39   \n",
       "4          5    15737888  Mitchell          850     Spain  Female   43   \n",
       "\n",
       "   Tenure    Balance  NumOfProducts  HasCrCard  IsActiveMember  \\\n",
       "0       2       0.00              1          1               1   \n",
       "1       1   83807.86              1          0               1   \n",
       "2       8  159660.80              3          1               0   \n",
       "3       1       0.00              2          0               0   \n",
       "4       2  125510.82              1          1               1   \n",
       "\n",
       "   EstimatedSalary  Exited  \n",
       "0        101348.88       1  \n",
       "1        112542.58       0  \n",
       "2        113931.57       1  \n",
       "3         93826.63       0  \n",
       "4         79084.10       0  "
      ]
     },
     "execution_count": 3,
     "metadata": {},
     "output_type": "execute_result"
    }
   ],
   "source": [
    "df.head()"
   ]
  },
  {
   "cell_type": "code",
   "execution_count": 4,
   "id": "1a490a09",
   "metadata": {
    "execution": {
     "iopub.execute_input": "2024-05-29T13:25:17.998811Z",
     "iopub.status.busy": "2024-05-29T13:25:17.998404Z",
     "iopub.status.idle": "2024-05-29T13:25:18.003941Z",
     "shell.execute_reply": "2024-05-29T13:25:18.002791Z"
    },
    "papermill": {
     "duration": 0.022569,
     "end_time": "2024-05-29T13:25:18.007249",
     "exception": false,
     "start_time": "2024-05-29T13:25:17.984680",
     "status": "completed"
    },
    "tags": []
   },
   "outputs": [
    {
     "name": "stdout",
     "output_type": "stream",
     "text": [
      "(10000, 14)\n"
     ]
    }
   ],
   "source": [
    "print(df.shape)"
   ]
  },
  {
   "cell_type": "code",
   "execution_count": 5,
   "id": "cccdbeaa",
   "metadata": {
    "execution": {
     "iopub.execute_input": "2024-05-29T13:25:18.034291Z",
     "iopub.status.busy": "2024-05-29T13:25:18.033910Z",
     "iopub.status.idle": "2024-05-29T13:25:18.063830Z",
     "shell.execute_reply": "2024-05-29T13:25:18.062637Z"
    },
    "papermill": {
     "duration": 0.046684,
     "end_time": "2024-05-29T13:25:18.066940",
     "exception": false,
     "start_time": "2024-05-29T13:25:18.020256",
     "status": "completed"
    },
    "tags": []
   },
   "outputs": [
    {
     "name": "stdout",
     "output_type": "stream",
     "text": [
      "<class 'pandas.core.frame.DataFrame'>\n",
      "RangeIndex: 10000 entries, 0 to 9999\n",
      "Data columns (total 14 columns):\n",
      " #   Column           Non-Null Count  Dtype  \n",
      "---  ------           --------------  -----  \n",
      " 0   RowNumber        10000 non-null  int64  \n",
      " 1   CustomerId       10000 non-null  int64  \n",
      " 2   Surname          10000 non-null  object \n",
      " 3   CreditScore      10000 non-null  int64  \n",
      " 4   Geography        10000 non-null  object \n",
      " 5   Gender           10000 non-null  object \n",
      " 6   Age              10000 non-null  int64  \n",
      " 7   Tenure           10000 non-null  int64  \n",
      " 8   Balance          10000 non-null  float64\n",
      " 9   NumOfProducts    10000 non-null  int64  \n",
      " 10  HasCrCard        10000 non-null  int64  \n",
      " 11  IsActiveMember   10000 non-null  int64  \n",
      " 12  EstimatedSalary  10000 non-null  float64\n",
      " 13  Exited           10000 non-null  int64  \n",
      "dtypes: float64(2), int64(9), object(3)\n",
      "memory usage: 1.1+ MB\n"
     ]
    }
   ],
   "source": [
    "df.info()"
   ]
  },
  {
   "cell_type": "code",
   "execution_count": 6,
   "id": "35468ab9",
   "metadata": {
    "execution": {
     "iopub.execute_input": "2024-05-29T13:25:18.095367Z",
     "iopub.status.busy": "2024-05-29T13:25:18.094974Z",
     "iopub.status.idle": "2024-05-29T13:25:18.111680Z",
     "shell.execute_reply": "2024-05-29T13:25:18.110560Z"
    },
    "papermill": {
     "duration": 0.034669,
     "end_time": "2024-05-29T13:25:18.114481",
     "exception": false,
     "start_time": "2024-05-29T13:25:18.079812",
     "status": "completed"
    },
    "tags": []
   },
   "outputs": [
    {
     "data": {
      "text/plain": [
       "0"
      ]
     },
     "execution_count": 6,
     "metadata": {},
     "output_type": "execute_result"
    }
   ],
   "source": [
    "df.duplicated().sum()"
   ]
  },
  {
   "cell_type": "code",
   "execution_count": 7,
   "id": "49286961",
   "metadata": {
    "execution": {
     "iopub.execute_input": "2024-05-29T13:25:18.143031Z",
     "iopub.status.busy": "2024-05-29T13:25:18.142639Z",
     "iopub.status.idle": "2024-05-29T13:25:18.153132Z",
     "shell.execute_reply": "2024-05-29T13:25:18.152053Z"
    },
    "papermill": {
     "duration": 0.027877,
     "end_time": "2024-05-29T13:25:18.155661",
     "exception": false,
     "start_time": "2024-05-29T13:25:18.127784",
     "status": "completed"
    },
    "tags": []
   },
   "outputs": [
    {
     "data": {
      "text/plain": [
       "Exited\n",
       "0    7963\n",
       "1    2037\n",
       "Name: count, dtype: int64"
      ]
     },
     "execution_count": 7,
     "metadata": {},
     "output_type": "execute_result"
    }
   ],
   "source": [
    "df[\"Exited\"].value_counts()"
   ]
  },
  {
   "cell_type": "code",
   "execution_count": 8,
   "id": "a0096ab4",
   "metadata": {
    "execution": {
     "iopub.execute_input": "2024-05-29T13:25:18.183727Z",
     "iopub.status.busy": "2024-05-29T13:25:18.183288Z",
     "iopub.status.idle": "2024-05-29T13:25:18.193498Z",
     "shell.execute_reply": "2024-05-29T13:25:18.192497Z"
    },
    "papermill": {
     "duration": 0.027273,
     "end_time": "2024-05-29T13:25:18.196037",
     "exception": false,
     "start_time": "2024-05-29T13:25:18.168764",
     "status": "completed"
    },
    "tags": []
   },
   "outputs": [
    {
     "data": {
      "text/plain": [
       "Geography\n",
       "France     5014\n",
       "Germany    2509\n",
       "Spain      2477\n",
       "Name: count, dtype: int64"
      ]
     },
     "execution_count": 8,
     "metadata": {},
     "output_type": "execute_result"
    }
   ],
   "source": [
    "df[\"Geography\"].value_counts()"
   ]
  },
  {
   "cell_type": "code",
   "execution_count": 9,
   "id": "a9f09434",
   "metadata": {
    "execution": {
     "iopub.execute_input": "2024-05-29T13:25:18.224060Z",
     "iopub.status.busy": "2024-05-29T13:25:18.223667Z",
     "iopub.status.idle": "2024-05-29T13:25:18.234947Z",
     "shell.execute_reply": "2024-05-29T13:25:18.233849Z"
    },
    "papermill": {
     "duration": 0.028279,
     "end_time": "2024-05-29T13:25:18.237457",
     "exception": false,
     "start_time": "2024-05-29T13:25:18.209178",
     "status": "completed"
    },
    "tags": []
   },
   "outputs": [
    {
     "data": {
      "text/plain": [
       "Gender\n",
       "Male      5457\n",
       "Female    4543\n",
       "Name: count, dtype: int64"
      ]
     },
     "execution_count": 9,
     "metadata": {},
     "output_type": "execute_result"
    }
   ],
   "source": [
    "df[\"Gender\"].value_counts()"
   ]
  },
  {
   "cell_type": "code",
   "execution_count": 10,
   "id": "f70e794e",
   "metadata": {
    "execution": {
     "iopub.execute_input": "2024-05-29T13:25:18.266158Z",
     "iopub.status.busy": "2024-05-29T13:25:18.265763Z",
     "iopub.status.idle": "2024-05-29T13:25:18.275505Z",
     "shell.execute_reply": "2024-05-29T13:25:18.274096Z"
    },
    "papermill": {
     "duration": 0.027356,
     "end_time": "2024-05-29T13:25:18.278191",
     "exception": false,
     "start_time": "2024-05-29T13:25:18.250835",
     "status": "completed"
    },
    "tags": []
   },
   "outputs": [],
   "source": [
    "df.drop(columns=[\"RowNumber\",\"CustomerId\",\"Surname\"], inplace=True)"
   ]
  },
  {
   "cell_type": "code",
   "execution_count": 11,
   "id": "867c9e90",
   "metadata": {
    "execution": {
     "iopub.execute_input": "2024-05-29T13:25:18.306915Z",
     "iopub.status.busy": "2024-05-29T13:25:18.306500Z",
     "iopub.status.idle": "2024-05-29T13:25:18.322929Z",
     "shell.execute_reply": "2024-05-29T13:25:18.321810Z"
    },
    "papermill": {
     "duration": 0.033605,
     "end_time": "2024-05-29T13:25:18.325495",
     "exception": false,
     "start_time": "2024-05-29T13:25:18.291890",
     "status": "completed"
    },
    "tags": []
   },
   "outputs": [
    {
     "data": {
      "text/html": [
       "<div>\n",
       "<style scoped>\n",
       "    .dataframe tbody tr th:only-of-type {\n",
       "        vertical-align: middle;\n",
       "    }\n",
       "\n",
       "    .dataframe tbody tr th {\n",
       "        vertical-align: top;\n",
       "    }\n",
       "\n",
       "    .dataframe thead th {\n",
       "        text-align: right;\n",
       "    }\n",
       "</style>\n",
       "<table border=\"1\" class=\"dataframe\">\n",
       "  <thead>\n",
       "    <tr style=\"text-align: right;\">\n",
       "      <th></th>\n",
       "      <th>CreditScore</th>\n",
       "      <th>Geography</th>\n",
       "      <th>Gender</th>\n",
       "      <th>Age</th>\n",
       "      <th>Tenure</th>\n",
       "      <th>Balance</th>\n",
       "      <th>NumOfProducts</th>\n",
       "      <th>HasCrCard</th>\n",
       "      <th>IsActiveMember</th>\n",
       "      <th>EstimatedSalary</th>\n",
       "      <th>Exited</th>\n",
       "    </tr>\n",
       "  </thead>\n",
       "  <tbody>\n",
       "    <tr>\n",
       "      <th>0</th>\n",
       "      <td>619</td>\n",
       "      <td>France</td>\n",
       "      <td>Female</td>\n",
       "      <td>42</td>\n",
       "      <td>2</td>\n",
       "      <td>0.00</td>\n",
       "      <td>1</td>\n",
       "      <td>1</td>\n",
       "      <td>1</td>\n",
       "      <td>101348.88</td>\n",
       "      <td>1</td>\n",
       "    </tr>\n",
       "    <tr>\n",
       "      <th>1</th>\n",
       "      <td>608</td>\n",
       "      <td>Spain</td>\n",
       "      <td>Female</td>\n",
       "      <td>41</td>\n",
       "      <td>1</td>\n",
       "      <td>83807.86</td>\n",
       "      <td>1</td>\n",
       "      <td>0</td>\n",
       "      <td>1</td>\n",
       "      <td>112542.58</td>\n",
       "      <td>0</td>\n",
       "    </tr>\n",
       "    <tr>\n",
       "      <th>2</th>\n",
       "      <td>502</td>\n",
       "      <td>France</td>\n",
       "      <td>Female</td>\n",
       "      <td>42</td>\n",
       "      <td>8</td>\n",
       "      <td>159660.80</td>\n",
       "      <td>3</td>\n",
       "      <td>1</td>\n",
       "      <td>0</td>\n",
       "      <td>113931.57</td>\n",
       "      <td>1</td>\n",
       "    </tr>\n",
       "    <tr>\n",
       "      <th>3</th>\n",
       "      <td>699</td>\n",
       "      <td>France</td>\n",
       "      <td>Female</td>\n",
       "      <td>39</td>\n",
       "      <td>1</td>\n",
       "      <td>0.00</td>\n",
       "      <td>2</td>\n",
       "      <td>0</td>\n",
       "      <td>0</td>\n",
       "      <td>93826.63</td>\n",
       "      <td>0</td>\n",
       "    </tr>\n",
       "    <tr>\n",
       "      <th>4</th>\n",
       "      <td>850</td>\n",
       "      <td>Spain</td>\n",
       "      <td>Female</td>\n",
       "      <td>43</td>\n",
       "      <td>2</td>\n",
       "      <td>125510.82</td>\n",
       "      <td>1</td>\n",
       "      <td>1</td>\n",
       "      <td>1</td>\n",
       "      <td>79084.10</td>\n",
       "      <td>0</td>\n",
       "    </tr>\n",
       "  </tbody>\n",
       "</table>\n",
       "</div>"
      ],
      "text/plain": [
       "   CreditScore Geography  Gender  Age  Tenure    Balance  NumOfProducts  \\\n",
       "0          619    France  Female   42       2       0.00              1   \n",
       "1          608     Spain  Female   41       1   83807.86              1   \n",
       "2          502    France  Female   42       8  159660.80              3   \n",
       "3          699    France  Female   39       1       0.00              2   \n",
       "4          850     Spain  Female   43       2  125510.82              1   \n",
       "\n",
       "   HasCrCard  IsActiveMember  EstimatedSalary  Exited  \n",
       "0          1               1        101348.88       1  \n",
       "1          0               1        112542.58       0  \n",
       "2          1               0        113931.57       1  \n",
       "3          0               0         93826.63       0  \n",
       "4          1               1         79084.10       0  "
      ]
     },
     "execution_count": 11,
     "metadata": {},
     "output_type": "execute_result"
    }
   ],
   "source": [
    "df.head()"
   ]
  },
  {
   "cell_type": "code",
   "execution_count": 12,
   "id": "f39391c3",
   "metadata": {
    "execution": {
     "iopub.execute_input": "2024-05-29T13:25:18.354776Z",
     "iopub.status.busy": "2024-05-29T13:25:18.354395Z",
     "iopub.status.idle": "2024-05-29T13:25:18.367153Z",
     "shell.execute_reply": "2024-05-29T13:25:18.366022Z"
    },
    "papermill": {
     "duration": 0.030744,
     "end_time": "2024-05-29T13:25:18.369833",
     "exception": false,
     "start_time": "2024-05-29T13:25:18.339089",
     "status": "completed"
    },
    "tags": []
   },
   "outputs": [],
   "source": [
    "df = pd.get_dummies(df,columns=[\"Geography\",\"Gender\"], drop_first=True, dtype=int) #converting string data to int data by using one hot encoding"
   ]
  },
  {
   "cell_type": "code",
   "execution_count": 13,
   "id": "c9dde4b0",
   "metadata": {
    "execution": {
     "iopub.execute_input": "2024-05-29T13:25:18.399560Z",
     "iopub.status.busy": "2024-05-29T13:25:18.399152Z",
     "iopub.status.idle": "2024-05-29T13:25:18.415589Z",
     "shell.execute_reply": "2024-05-29T13:25:18.414493Z"
    },
    "papermill": {
     "duration": 0.034429,
     "end_time": "2024-05-29T13:25:18.418034",
     "exception": false,
     "start_time": "2024-05-29T13:25:18.383605",
     "status": "completed"
    },
    "tags": []
   },
   "outputs": [
    {
     "data": {
      "text/html": [
       "<div>\n",
       "<style scoped>\n",
       "    .dataframe tbody tr th:only-of-type {\n",
       "        vertical-align: middle;\n",
       "    }\n",
       "\n",
       "    .dataframe tbody tr th {\n",
       "        vertical-align: top;\n",
       "    }\n",
       "\n",
       "    .dataframe thead th {\n",
       "        text-align: right;\n",
       "    }\n",
       "</style>\n",
       "<table border=\"1\" class=\"dataframe\">\n",
       "  <thead>\n",
       "    <tr style=\"text-align: right;\">\n",
       "      <th></th>\n",
       "      <th>CreditScore</th>\n",
       "      <th>Age</th>\n",
       "      <th>Tenure</th>\n",
       "      <th>Balance</th>\n",
       "      <th>NumOfProducts</th>\n",
       "      <th>HasCrCard</th>\n",
       "      <th>IsActiveMember</th>\n",
       "      <th>EstimatedSalary</th>\n",
       "      <th>Exited</th>\n",
       "      <th>Geography_Germany</th>\n",
       "      <th>Geography_Spain</th>\n",
       "      <th>Gender_Male</th>\n",
       "    </tr>\n",
       "  </thead>\n",
       "  <tbody>\n",
       "    <tr>\n",
       "      <th>0</th>\n",
       "      <td>619</td>\n",
       "      <td>42</td>\n",
       "      <td>2</td>\n",
       "      <td>0.00</td>\n",
       "      <td>1</td>\n",
       "      <td>1</td>\n",
       "      <td>1</td>\n",
       "      <td>101348.88</td>\n",
       "      <td>1</td>\n",
       "      <td>0</td>\n",
       "      <td>0</td>\n",
       "      <td>0</td>\n",
       "    </tr>\n",
       "    <tr>\n",
       "      <th>1</th>\n",
       "      <td>608</td>\n",
       "      <td>41</td>\n",
       "      <td>1</td>\n",
       "      <td>83807.86</td>\n",
       "      <td>1</td>\n",
       "      <td>0</td>\n",
       "      <td>1</td>\n",
       "      <td>112542.58</td>\n",
       "      <td>0</td>\n",
       "      <td>0</td>\n",
       "      <td>1</td>\n",
       "      <td>0</td>\n",
       "    </tr>\n",
       "    <tr>\n",
       "      <th>2</th>\n",
       "      <td>502</td>\n",
       "      <td>42</td>\n",
       "      <td>8</td>\n",
       "      <td>159660.80</td>\n",
       "      <td>3</td>\n",
       "      <td>1</td>\n",
       "      <td>0</td>\n",
       "      <td>113931.57</td>\n",
       "      <td>1</td>\n",
       "      <td>0</td>\n",
       "      <td>0</td>\n",
       "      <td>0</td>\n",
       "    </tr>\n",
       "    <tr>\n",
       "      <th>3</th>\n",
       "      <td>699</td>\n",
       "      <td>39</td>\n",
       "      <td>1</td>\n",
       "      <td>0.00</td>\n",
       "      <td>2</td>\n",
       "      <td>0</td>\n",
       "      <td>0</td>\n",
       "      <td>93826.63</td>\n",
       "      <td>0</td>\n",
       "      <td>0</td>\n",
       "      <td>0</td>\n",
       "      <td>0</td>\n",
       "    </tr>\n",
       "    <tr>\n",
       "      <th>4</th>\n",
       "      <td>850</td>\n",
       "      <td>43</td>\n",
       "      <td>2</td>\n",
       "      <td>125510.82</td>\n",
       "      <td>1</td>\n",
       "      <td>1</td>\n",
       "      <td>1</td>\n",
       "      <td>79084.10</td>\n",
       "      <td>0</td>\n",
       "      <td>0</td>\n",
       "      <td>1</td>\n",
       "      <td>0</td>\n",
       "    </tr>\n",
       "  </tbody>\n",
       "</table>\n",
       "</div>"
      ],
      "text/plain": [
       "   CreditScore  Age  Tenure    Balance  NumOfProducts  HasCrCard  \\\n",
       "0          619   42       2       0.00              1          1   \n",
       "1          608   41       1   83807.86              1          0   \n",
       "2          502   42       8  159660.80              3          1   \n",
       "3          699   39       1       0.00              2          0   \n",
       "4          850   43       2  125510.82              1          1   \n",
       "\n",
       "   IsActiveMember  EstimatedSalary  Exited  Geography_Germany  \\\n",
       "0               1        101348.88       1                  0   \n",
       "1               1        112542.58       0                  0   \n",
       "2               0        113931.57       1                  0   \n",
       "3               0         93826.63       0                  0   \n",
       "4               1         79084.10       0                  0   \n",
       "\n",
       "   Geography_Spain  Gender_Male  \n",
       "0                0            0  \n",
       "1                1            0  \n",
       "2                0            0  \n",
       "3                0            0  \n",
       "4                1            0  "
      ]
     },
     "execution_count": 13,
     "metadata": {},
     "output_type": "execute_result"
    }
   ],
   "source": [
    "df.head()"
   ]
  },
  {
   "cell_type": "code",
   "execution_count": 14,
   "id": "29d13f95",
   "metadata": {
    "execution": {
     "iopub.execute_input": "2024-05-29T13:25:18.447742Z",
     "iopub.status.busy": "2024-05-29T13:25:18.447304Z",
     "iopub.status.idle": "2024-05-29T13:25:19.693597Z",
     "shell.execute_reply": "2024-05-29T13:25:19.692411Z"
    },
    "papermill": {
     "duration": 1.264625,
     "end_time": "2024-05-29T13:25:19.696670",
     "exception": false,
     "start_time": "2024-05-29T13:25:18.432045",
     "status": "completed"
    },
    "tags": []
   },
   "outputs": [],
   "source": [
    "# splitting the data into X and y and creating X_train, X_test, y_train and y_test\n",
    "\n",
    "X = df.drop(columns=[\"Exited\"])\n",
    "y = df[\"Exited\"]\n",
    "\n",
    "from sklearn.model_selection import train_test_split\n",
    "\n",
    "X_train, X_test, y_train, y_test = train_test_split(X,y, test_size=0.2, random_state=1)"
   ]
  },
  {
   "cell_type": "code",
   "execution_count": 15,
   "id": "81a96a59",
   "metadata": {
    "execution": {
     "iopub.execute_input": "2024-05-29T13:25:19.726406Z",
     "iopub.status.busy": "2024-05-29T13:25:19.726007Z",
     "iopub.status.idle": "2024-05-29T13:25:19.745922Z",
     "shell.execute_reply": "2024-05-29T13:25:19.744834Z"
    },
    "papermill": {
     "duration": 0.037704,
     "end_time": "2024-05-29T13:25:19.748401",
     "exception": false,
     "start_time": "2024-05-29T13:25:19.710697",
     "status": "completed"
    },
    "tags": []
   },
   "outputs": [
    {
     "data": {
      "text/html": [
       "<div>\n",
       "<style scoped>\n",
       "    .dataframe tbody tr th:only-of-type {\n",
       "        vertical-align: middle;\n",
       "    }\n",
       "\n",
       "    .dataframe tbody tr th {\n",
       "        vertical-align: top;\n",
       "    }\n",
       "\n",
       "    .dataframe thead th {\n",
       "        text-align: right;\n",
       "    }\n",
       "</style>\n",
       "<table border=\"1\" class=\"dataframe\">\n",
       "  <thead>\n",
       "    <tr style=\"text-align: right;\">\n",
       "      <th></th>\n",
       "      <th>CreditScore</th>\n",
       "      <th>Age</th>\n",
       "      <th>Tenure</th>\n",
       "      <th>Balance</th>\n",
       "      <th>NumOfProducts</th>\n",
       "      <th>HasCrCard</th>\n",
       "      <th>IsActiveMember</th>\n",
       "      <th>EstimatedSalary</th>\n",
       "      <th>Geography_Germany</th>\n",
       "      <th>Geography_Spain</th>\n",
       "      <th>Gender_Male</th>\n",
       "    </tr>\n",
       "  </thead>\n",
       "  <tbody>\n",
       "    <tr>\n",
       "      <th>2694</th>\n",
       "      <td>628</td>\n",
       "      <td>29</td>\n",
       "      <td>3</td>\n",
       "      <td>113146.98</td>\n",
       "      <td>2</td>\n",
       "      <td>0</td>\n",
       "      <td>1</td>\n",
       "      <td>124749.08</td>\n",
       "      <td>1</td>\n",
       "      <td>0</td>\n",
       "      <td>1</td>\n",
       "    </tr>\n",
       "    <tr>\n",
       "      <th>5140</th>\n",
       "      <td>626</td>\n",
       "      <td>29</td>\n",
       "      <td>4</td>\n",
       "      <td>105767.28</td>\n",
       "      <td>2</td>\n",
       "      <td>0</td>\n",
       "      <td>0</td>\n",
       "      <td>41104.82</td>\n",
       "      <td>0</td>\n",
       "      <td>0</td>\n",
       "      <td>0</td>\n",
       "    </tr>\n",
       "    <tr>\n",
       "      <th>2568</th>\n",
       "      <td>612</td>\n",
       "      <td>47</td>\n",
       "      <td>6</td>\n",
       "      <td>130024.87</td>\n",
       "      <td>1</td>\n",
       "      <td>1</td>\n",
       "      <td>1</td>\n",
       "      <td>45750.21</td>\n",
       "      <td>1</td>\n",
       "      <td>0</td>\n",
       "      <td>0</td>\n",
       "    </tr>\n",
       "    <tr>\n",
       "      <th>3671</th>\n",
       "      <td>646</td>\n",
       "      <td>52</td>\n",
       "      <td>6</td>\n",
       "      <td>111739.40</td>\n",
       "      <td>2</td>\n",
       "      <td>0</td>\n",
       "      <td>1</td>\n",
       "      <td>68367.18</td>\n",
       "      <td>1</td>\n",
       "      <td>0</td>\n",
       "      <td>0</td>\n",
       "    </tr>\n",
       "    <tr>\n",
       "      <th>7427</th>\n",
       "      <td>714</td>\n",
       "      <td>33</td>\n",
       "      <td>8</td>\n",
       "      <td>122017.19</td>\n",
       "      <td>1</td>\n",
       "      <td>0</td>\n",
       "      <td>0</td>\n",
       "      <td>162515.17</td>\n",
       "      <td>0</td>\n",
       "      <td>1</td>\n",
       "      <td>1</td>\n",
       "    </tr>\n",
       "    <tr>\n",
       "      <th>...</th>\n",
       "      <td>...</td>\n",
       "      <td>...</td>\n",
       "      <td>...</td>\n",
       "      <td>...</td>\n",
       "      <td>...</td>\n",
       "      <td>...</td>\n",
       "      <td>...</td>\n",
       "      <td>...</td>\n",
       "      <td>...</td>\n",
       "      <td>...</td>\n",
       "      <td>...</td>\n",
       "    </tr>\n",
       "    <tr>\n",
       "      <th>2895</th>\n",
       "      <td>621</td>\n",
       "      <td>47</td>\n",
       "      <td>7</td>\n",
       "      <td>107363.29</td>\n",
       "      <td>1</td>\n",
       "      <td>1</td>\n",
       "      <td>1</td>\n",
       "      <td>66799.28</td>\n",
       "      <td>1</td>\n",
       "      <td>0</td>\n",
       "      <td>1</td>\n",
       "    </tr>\n",
       "    <tr>\n",
       "      <th>7813</th>\n",
       "      <td>684</td>\n",
       "      <td>63</td>\n",
       "      <td>3</td>\n",
       "      <td>81245.79</td>\n",
       "      <td>1</td>\n",
       "      <td>1</td>\n",
       "      <td>0</td>\n",
       "      <td>69643.31</td>\n",
       "      <td>1</td>\n",
       "      <td>0</td>\n",
       "      <td>0</td>\n",
       "    </tr>\n",
       "    <tr>\n",
       "      <th>905</th>\n",
       "      <td>672</td>\n",
       "      <td>45</td>\n",
       "      <td>9</td>\n",
       "      <td>0.00</td>\n",
       "      <td>1</td>\n",
       "      <td>1</td>\n",
       "      <td>1</td>\n",
       "      <td>92027.69</td>\n",
       "      <td>0</td>\n",
       "      <td>0</td>\n",
       "      <td>0</td>\n",
       "    </tr>\n",
       "    <tr>\n",
       "      <th>5192</th>\n",
       "      <td>663</td>\n",
       "      <td>39</td>\n",
       "      <td>8</td>\n",
       "      <td>0.00</td>\n",
       "      <td>2</td>\n",
       "      <td>1</td>\n",
       "      <td>1</td>\n",
       "      <td>101168.90</td>\n",
       "      <td>0</td>\n",
       "      <td>0</td>\n",
       "      <td>0</td>\n",
       "    </tr>\n",
       "    <tr>\n",
       "      <th>235</th>\n",
       "      <td>763</td>\n",
       "      <td>42</td>\n",
       "      <td>6</td>\n",
       "      <td>100160.75</td>\n",
       "      <td>1</td>\n",
       "      <td>1</td>\n",
       "      <td>0</td>\n",
       "      <td>33462.94</td>\n",
       "      <td>1</td>\n",
       "      <td>0</td>\n",
       "      <td>1</td>\n",
       "    </tr>\n",
       "  </tbody>\n",
       "</table>\n",
       "<p>8000 rows × 11 columns</p>\n",
       "</div>"
      ],
      "text/plain": [
       "      CreditScore  Age  Tenure    Balance  NumOfProducts  HasCrCard  \\\n",
       "2694          628   29       3  113146.98              2          0   \n",
       "5140          626   29       4  105767.28              2          0   \n",
       "2568          612   47       6  130024.87              1          1   \n",
       "3671          646   52       6  111739.40              2          0   \n",
       "7427          714   33       8  122017.19              1          0   \n",
       "...           ...  ...     ...        ...            ...        ...   \n",
       "2895          621   47       7  107363.29              1          1   \n",
       "7813          684   63       3   81245.79              1          1   \n",
       "905           672   45       9       0.00              1          1   \n",
       "5192          663   39       8       0.00              2          1   \n",
       "235           763   42       6  100160.75              1          1   \n",
       "\n",
       "      IsActiveMember  EstimatedSalary  Geography_Germany  Geography_Spain  \\\n",
       "2694               1        124749.08                  1                0   \n",
       "5140               0         41104.82                  0                0   \n",
       "2568               1         45750.21                  1                0   \n",
       "3671               1         68367.18                  1                0   \n",
       "7427               0        162515.17                  0                1   \n",
       "...              ...              ...                ...              ...   \n",
       "2895               1         66799.28                  1                0   \n",
       "7813               0         69643.31                  1                0   \n",
       "905                1         92027.69                  0                0   \n",
       "5192               1        101168.90                  0                0   \n",
       "235                0         33462.94                  1                0   \n",
       "\n",
       "      Gender_Male  \n",
       "2694            1  \n",
       "5140            0  \n",
       "2568            0  \n",
       "3671            0  \n",
       "7427            1  \n",
       "...           ...  \n",
       "2895            1  \n",
       "7813            0  \n",
       "905             0  \n",
       "5192            0  \n",
       "235             1  \n",
       "\n",
       "[8000 rows x 11 columns]"
      ]
     },
     "execution_count": 15,
     "metadata": {},
     "output_type": "execute_result"
    }
   ],
   "source": [
    "X_train"
   ]
  },
  {
   "cell_type": "code",
   "execution_count": 16,
   "id": "6be464b2",
   "metadata": {
    "execution": {
     "iopub.execute_input": "2024-05-29T13:25:19.779195Z",
     "iopub.status.busy": "2024-05-29T13:25:19.778812Z",
     "iopub.status.idle": "2024-05-29T13:25:19.799263Z",
     "shell.execute_reply": "2024-05-29T13:25:19.798199Z"
    },
    "papermill": {
     "duration": 0.039177,
     "end_time": "2024-05-29T13:25:19.802150",
     "exception": false,
     "start_time": "2024-05-29T13:25:19.762973",
     "status": "completed"
    },
    "tags": []
   },
   "outputs": [
    {
     "data": {
      "text/html": [
       "<div>\n",
       "<style scoped>\n",
       "    .dataframe tbody tr th:only-of-type {\n",
       "        vertical-align: middle;\n",
       "    }\n",
       "\n",
       "    .dataframe tbody tr th {\n",
       "        vertical-align: top;\n",
       "    }\n",
       "\n",
       "    .dataframe thead th {\n",
       "        text-align: right;\n",
       "    }\n",
       "</style>\n",
       "<table border=\"1\" class=\"dataframe\">\n",
       "  <thead>\n",
       "    <tr style=\"text-align: right;\">\n",
       "      <th></th>\n",
       "      <th>CreditScore</th>\n",
       "      <th>Age</th>\n",
       "      <th>Tenure</th>\n",
       "      <th>Balance</th>\n",
       "      <th>NumOfProducts</th>\n",
       "      <th>HasCrCard</th>\n",
       "      <th>IsActiveMember</th>\n",
       "      <th>EstimatedSalary</th>\n",
       "      <th>Geography_Germany</th>\n",
       "      <th>Geography_Spain</th>\n",
       "      <th>Gender_Male</th>\n",
       "    </tr>\n",
       "  </thead>\n",
       "  <tbody>\n",
       "    <tr>\n",
       "      <th>9953</th>\n",
       "      <td>550</td>\n",
       "      <td>47</td>\n",
       "      <td>2</td>\n",
       "      <td>0.00</td>\n",
       "      <td>2</td>\n",
       "      <td>1</td>\n",
       "      <td>1</td>\n",
       "      <td>97057.28</td>\n",
       "      <td>0</td>\n",
       "      <td>0</td>\n",
       "      <td>1</td>\n",
       "    </tr>\n",
       "    <tr>\n",
       "      <th>3850</th>\n",
       "      <td>680</td>\n",
       "      <td>34</td>\n",
       "      <td>3</td>\n",
       "      <td>143292.95</td>\n",
       "      <td>1</td>\n",
       "      <td>1</td>\n",
       "      <td>0</td>\n",
       "      <td>66526.01</td>\n",
       "      <td>0</td>\n",
       "      <td>0</td>\n",
       "      <td>1</td>\n",
       "    </tr>\n",
       "    <tr>\n",
       "      <th>4962</th>\n",
       "      <td>531</td>\n",
       "      <td>42</td>\n",
       "      <td>2</td>\n",
       "      <td>0.00</td>\n",
       "      <td>2</td>\n",
       "      <td>0</td>\n",
       "      <td>1</td>\n",
       "      <td>90537.47</td>\n",
       "      <td>0</td>\n",
       "      <td>0</td>\n",
       "      <td>0</td>\n",
       "    </tr>\n",
       "    <tr>\n",
       "      <th>3886</th>\n",
       "      <td>710</td>\n",
       "      <td>34</td>\n",
       "      <td>8</td>\n",
       "      <td>147833.30</td>\n",
       "      <td>2</td>\n",
       "      <td>0</td>\n",
       "      <td>1</td>\n",
       "      <td>1561.58</td>\n",
       "      <td>1</td>\n",
       "      <td>0</td>\n",
       "      <td>1</td>\n",
       "    </tr>\n",
       "    <tr>\n",
       "      <th>5437</th>\n",
       "      <td>543</td>\n",
       "      <td>30</td>\n",
       "      <td>6</td>\n",
       "      <td>73481.05</td>\n",
       "      <td>1</td>\n",
       "      <td>1</td>\n",
       "      <td>1</td>\n",
       "      <td>176692.65</td>\n",
       "      <td>1</td>\n",
       "      <td>0</td>\n",
       "      <td>1</td>\n",
       "    </tr>\n",
       "    <tr>\n",
       "      <th>...</th>\n",
       "      <td>...</td>\n",
       "      <td>...</td>\n",
       "      <td>...</td>\n",
       "      <td>...</td>\n",
       "      <td>...</td>\n",
       "      <td>...</td>\n",
       "      <td>...</td>\n",
       "      <td>...</td>\n",
       "      <td>...</td>\n",
       "      <td>...</td>\n",
       "      <td>...</td>\n",
       "    </tr>\n",
       "    <tr>\n",
       "      <th>3919</th>\n",
       "      <td>763</td>\n",
       "      <td>39</td>\n",
       "      <td>7</td>\n",
       "      <td>0.00</td>\n",
       "      <td>2</td>\n",
       "      <td>1</td>\n",
       "      <td>0</td>\n",
       "      <td>19458.75</td>\n",
       "      <td>0</td>\n",
       "      <td>1</td>\n",
       "      <td>0</td>\n",
       "    </tr>\n",
       "    <tr>\n",
       "      <th>162</th>\n",
       "      <td>800</td>\n",
       "      <td>49</td>\n",
       "      <td>7</td>\n",
       "      <td>108007.36</td>\n",
       "      <td>1</td>\n",
       "      <td>0</td>\n",
       "      <td>0</td>\n",
       "      <td>47125.11</td>\n",
       "      <td>0</td>\n",
       "      <td>0</td>\n",
       "      <td>0</td>\n",
       "    </tr>\n",
       "    <tr>\n",
       "      <th>7903</th>\n",
       "      <td>567</td>\n",
       "      <td>34</td>\n",
       "      <td>10</td>\n",
       "      <td>0.00</td>\n",
       "      <td>2</td>\n",
       "      <td>0</td>\n",
       "      <td>1</td>\n",
       "      <td>161571.79</td>\n",
       "      <td>0</td>\n",
       "      <td>1</td>\n",
       "      <td>1</td>\n",
       "    </tr>\n",
       "    <tr>\n",
       "      <th>2242</th>\n",
       "      <td>621</td>\n",
       "      <td>30</td>\n",
       "      <td>2</td>\n",
       "      <td>101014.08</td>\n",
       "      <td>2</td>\n",
       "      <td>1</td>\n",
       "      <td>1</td>\n",
       "      <td>165257.31</td>\n",
       "      <td>1</td>\n",
       "      <td>0</td>\n",
       "      <td>0</td>\n",
       "    </tr>\n",
       "    <tr>\n",
       "      <th>2745</th>\n",
       "      <td>655</td>\n",
       "      <td>52</td>\n",
       "      <td>9</td>\n",
       "      <td>144696.75</td>\n",
       "      <td>1</td>\n",
       "      <td>1</td>\n",
       "      <td>1</td>\n",
       "      <td>49025.79</td>\n",
       "      <td>1</td>\n",
       "      <td>0</td>\n",
       "      <td>1</td>\n",
       "    </tr>\n",
       "  </tbody>\n",
       "</table>\n",
       "<p>2000 rows × 11 columns</p>\n",
       "</div>"
      ],
      "text/plain": [
       "      CreditScore  Age  Tenure    Balance  NumOfProducts  HasCrCard  \\\n",
       "9953          550   47       2       0.00              2          1   \n",
       "3850          680   34       3  143292.95              1          1   \n",
       "4962          531   42       2       0.00              2          0   \n",
       "3886          710   34       8  147833.30              2          0   \n",
       "5437          543   30       6   73481.05              1          1   \n",
       "...           ...  ...     ...        ...            ...        ...   \n",
       "3919          763   39       7       0.00              2          1   \n",
       "162           800   49       7  108007.36              1          0   \n",
       "7903          567   34      10       0.00              2          0   \n",
       "2242          621   30       2  101014.08              2          1   \n",
       "2745          655   52       9  144696.75              1          1   \n",
       "\n",
       "      IsActiveMember  EstimatedSalary  Geography_Germany  Geography_Spain  \\\n",
       "9953               1         97057.28                  0                0   \n",
       "3850               0         66526.01                  0                0   \n",
       "4962               1         90537.47                  0                0   \n",
       "3886               1          1561.58                  1                0   \n",
       "5437               1        176692.65                  1                0   \n",
       "...              ...              ...                ...              ...   \n",
       "3919               0         19458.75                  0                1   \n",
       "162                0         47125.11                  0                0   \n",
       "7903               1        161571.79                  0                1   \n",
       "2242               1        165257.31                  1                0   \n",
       "2745               1         49025.79                  1                0   \n",
       "\n",
       "      Gender_Male  \n",
       "9953            1  \n",
       "3850            1  \n",
       "4962            0  \n",
       "3886            1  \n",
       "5437            1  \n",
       "...           ...  \n",
       "3919            0  \n",
       "162             0  \n",
       "7903            1  \n",
       "2242            0  \n",
       "2745            1  \n",
       "\n",
       "[2000 rows x 11 columns]"
      ]
     },
     "execution_count": 16,
     "metadata": {},
     "output_type": "execute_result"
    }
   ],
   "source": [
    "X_test"
   ]
  },
  {
   "cell_type": "code",
   "execution_count": 17,
   "id": "8070b031",
   "metadata": {
    "execution": {
     "iopub.execute_input": "2024-05-29T13:25:19.833425Z",
     "iopub.status.busy": "2024-05-29T13:25:19.833036Z",
     "iopub.status.idle": "2024-05-29T13:25:19.841447Z",
     "shell.execute_reply": "2024-05-29T13:25:19.840365Z"
    },
    "papermill": {
     "duration": 0.027065,
     "end_time": "2024-05-29T13:25:19.844090",
     "exception": false,
     "start_time": "2024-05-29T13:25:19.817025",
     "status": "completed"
    },
    "tags": []
   },
   "outputs": [
    {
     "data": {
      "text/plain": [
       "2694    0\n",
       "5140    0\n",
       "2568    1\n",
       "3671    0\n",
       "7427    0\n",
       "       ..\n",
       "2895    0\n",
       "7813    1\n",
       "905     1\n",
       "5192    0\n",
       "235     1\n",
       "Name: Exited, Length: 8000, dtype: int64"
      ]
     },
     "execution_count": 17,
     "metadata": {},
     "output_type": "execute_result"
    }
   ],
   "source": [
    "y_train"
   ]
  },
  {
   "cell_type": "code",
   "execution_count": 18,
   "id": "1a2d37fe",
   "metadata": {
    "execution": {
     "iopub.execute_input": "2024-05-29T13:25:19.875740Z",
     "iopub.status.busy": "2024-05-29T13:25:19.875292Z",
     "iopub.status.idle": "2024-05-29T13:25:19.883571Z",
     "shell.execute_reply": "2024-05-29T13:25:19.882488Z"
    },
    "papermill": {
     "duration": 0.027048,
     "end_time": "2024-05-29T13:25:19.886146",
     "exception": false,
     "start_time": "2024-05-29T13:25:19.859098",
     "status": "completed"
    },
    "tags": []
   },
   "outputs": [
    {
     "data": {
      "text/plain": [
       "9953    0\n",
       "3850    0\n",
       "4962    0\n",
       "3886    0\n",
       "5437    0\n",
       "       ..\n",
       "3919    0\n",
       "162     0\n",
       "7903    0\n",
       "2242    0\n",
       "2745    0\n",
       "Name: Exited, Length: 2000, dtype: int64"
      ]
     },
     "execution_count": 18,
     "metadata": {},
     "output_type": "execute_result"
    }
   ],
   "source": [
    "y_test"
   ]
  },
  {
   "cell_type": "code",
   "execution_count": 19,
   "id": "c9a2e994",
   "metadata": {
    "execution": {
     "iopub.execute_input": "2024-05-29T13:25:19.918048Z",
     "iopub.status.busy": "2024-05-29T13:25:19.917629Z",
     "iopub.status.idle": "2024-05-29T13:25:19.934056Z",
     "shell.execute_reply": "2024-05-29T13:25:19.933061Z"
    },
    "papermill": {
     "duration": 0.035406,
     "end_time": "2024-05-29T13:25:19.936737",
     "exception": false,
     "start_time": "2024-05-29T13:25:19.901331",
     "status": "completed"
    },
    "tags": []
   },
   "outputs": [],
   "source": [
    "#scaling the data\n",
    "\n",
    "from sklearn.preprocessing import StandardScaler\n",
    "\n",
    "scaler = StandardScaler()\n",
    "\n",
    "X_train_scaled = scaler.fit_transform(X_train)\n",
    "X_test_scaled = scaler.transform(X_test)"
   ]
  },
  {
   "cell_type": "code",
   "execution_count": 20,
   "id": "5352fa0c",
   "metadata": {
    "execution": {
     "iopub.execute_input": "2024-05-29T13:25:19.969016Z",
     "iopub.status.busy": "2024-05-29T13:25:19.968556Z",
     "iopub.status.idle": "2024-05-29T13:25:19.976703Z",
     "shell.execute_reply": "2024-05-29T13:25:19.975449Z"
    },
    "papermill": {
     "duration": 0.027153,
     "end_time": "2024-05-29T13:25:19.979096",
     "exception": false,
     "start_time": "2024-05-29T13:25:19.951943",
     "status": "completed"
    },
    "tags": []
   },
   "outputs": [
    {
     "data": {
      "text/plain": [
       "array([[-0.23082038, -0.94449979, -0.70174202, ...,  1.71490137,\n",
       "        -0.57273139,  0.91509065],\n",
       "       [-0.25150912, -0.94449979, -0.35520275, ..., -0.58312392,\n",
       "        -0.57273139, -1.09278791],\n",
       "       [-0.3963303 ,  0.77498705,  0.33787579, ...,  1.71490137,\n",
       "        -0.57273139, -1.09278791],\n",
       "       ...,\n",
       "       [ 0.22433188,  0.58393295,  1.3774936 , ..., -0.58312392,\n",
       "        -0.57273139, -1.09278791],\n",
       "       [ 0.13123255,  0.01077067,  1.03095433, ..., -0.58312392,\n",
       "        -0.57273139, -1.09278791],\n",
       "       [ 1.1656695 ,  0.29735181,  0.33787579, ...,  1.71490137,\n",
       "        -0.57273139,  0.91509065]])"
      ]
     },
     "execution_count": 20,
     "metadata": {},
     "output_type": "execute_result"
    }
   ],
   "source": [
    "X_train_scaled"
   ]
  },
  {
   "cell_type": "code",
   "execution_count": 21,
   "id": "08d97eb9",
   "metadata": {
    "execution": {
     "iopub.execute_input": "2024-05-29T13:25:20.013099Z",
     "iopub.status.busy": "2024-05-29T13:25:20.012687Z",
     "iopub.status.idle": "2024-05-29T13:25:20.020888Z",
     "shell.execute_reply": "2024-05-29T13:25:20.019686Z"
    },
    "papermill": {
     "duration": 0.028223,
     "end_time": "2024-05-29T13:25:20.023299",
     "exception": false,
     "start_time": "2024-05-29T13:25:19.995076",
     "status": "completed"
    },
    "tags": []
   },
   "outputs": [
    {
     "data": {
      "text/plain": [
       "array([[-1.03768121,  0.77498705, -1.0482813 , ..., -0.58312392,\n",
       "        -0.57273139,  0.91509065],\n",
       "       [ 0.30708683, -0.46686456, -0.70174202, ..., -0.58312392,\n",
       "        -0.57273139,  0.91509065],\n",
       "       [-1.23422423,  0.29735181, -1.0482813 , ..., -0.58312392,\n",
       "        -0.57273139, -1.09278791],\n",
       "       ...,\n",
       "       [-0.86182692, -0.46686456,  1.72403288, ..., -0.58312392,\n",
       "         1.74601919,  0.91509065],\n",
       "       [-0.30323097, -0.84897275, -1.0482813 , ...,  1.71490137,\n",
       "        -0.57273139, -1.09278791],\n",
       "       [ 0.04847759,  1.25262228,  1.3774936 , ...,  1.71490137,\n",
       "        -0.57273139,  0.91509065]])"
      ]
     },
     "execution_count": 21,
     "metadata": {},
     "output_type": "execute_result"
    }
   ],
   "source": [
    "X_test_scaled"
   ]
  },
  {
   "cell_type": "code",
   "execution_count": 22,
   "id": "1e43696a",
   "metadata": {
    "execution": {
     "iopub.execute_input": "2024-05-29T13:25:20.057213Z",
     "iopub.status.busy": "2024-05-29T13:25:20.056790Z",
     "iopub.status.idle": "2024-05-29T13:25:34.555582Z",
     "shell.execute_reply": "2024-05-29T13:25:34.554064Z"
    },
    "papermill": {
     "duration": 14.519713,
     "end_time": "2024-05-29T13:25:34.558675",
     "exception": false,
     "start_time": "2024-05-29T13:25:20.038962",
     "status": "completed"
    },
    "tags": []
   },
   "outputs": [
    {
     "name": "stderr",
     "output_type": "stream",
     "text": [
      "2024-05-29 13:25:22.445878: E external/local_xla/xla/stream_executor/cuda/cuda_dnn.cc:9261] Unable to register cuDNN factory: Attempting to register factory for plugin cuDNN when one has already been registered\n",
      "2024-05-29 13:25:22.446005: E external/local_xla/xla/stream_executor/cuda/cuda_fft.cc:607] Unable to register cuFFT factory: Attempting to register factory for plugin cuFFT when one has already been registered\n",
      "2024-05-29 13:25:22.614850: E external/local_xla/xla/stream_executor/cuda/cuda_blas.cc:1515] Unable to register cuBLAS factory: Attempting to register factory for plugin cuBLAS when one has already been registered\n"
     ]
    }
   ],
   "source": [
    "#import libraries for building neural network\n",
    "\n",
    "import tensorflow\n",
    "from tensorflow import keras\n",
    "from tensorflow.keras import Sequential\n",
    "from tensorflow.keras.layers import Dense"
   ]
  },
  {
   "cell_type": "code",
   "execution_count": 23,
   "id": "34b91d64",
   "metadata": {
    "execution": {
     "iopub.execute_input": "2024-05-29T13:25:34.593056Z",
     "iopub.status.busy": "2024-05-29T13:25:34.592333Z",
     "iopub.status.idle": "2024-05-29T13:25:34.693421Z",
     "shell.execute_reply": "2024-05-29T13:25:34.692281Z"
    },
    "papermill": {
     "duration": 0.121484,
     "end_time": "2024-05-29T13:25:34.696273",
     "exception": false,
     "start_time": "2024-05-29T13:25:34.574789",
     "status": "completed"
    },
    "tags": []
   },
   "outputs": [
    {
     "name": "stderr",
     "output_type": "stream",
     "text": [
      "/opt/conda/lib/python3.10/site-packages/keras/src/layers/core/dense.py:86: UserWarning: Do not pass an `input_shape`/`input_dim` argument to a layer. When using Sequential models, prefer using an `Input(shape)` object as the first layer in the model instead.\n",
      "  super().__init__(activity_regularizer=activity_regularizer, **kwargs)\n"
     ]
    }
   ],
   "source": [
    "model = Sequential()\n",
    "\n",
    "model.add(Dense(11, activation=\"relu\", input_dim=11)) #this means in the starting layer we will add 11 perceptrons in this input layer and we mention the number of inputs as well.\n",
    "model.add(Dense(11, activation=\"relu\")) #layer 2 with 11 perceptrons\n",
    "model.add(Dense(1, activation=\"sigmoid\")) #output layer will have 1 perceptron."
   ]
  },
  {
   "cell_type": "code",
   "execution_count": 24,
   "id": "9061f09a",
   "metadata": {
    "execution": {
     "iopub.execute_input": "2024-05-29T13:25:34.730038Z",
     "iopub.status.busy": "2024-05-29T13:25:34.729625Z",
     "iopub.status.idle": "2024-05-29T13:25:34.751761Z",
     "shell.execute_reply": "2024-05-29T13:25:34.750492Z"
    },
    "papermill": {
     "duration": 0.042391,
     "end_time": "2024-05-29T13:25:34.754538",
     "exception": false,
     "start_time": "2024-05-29T13:25:34.712147",
     "status": "completed"
    },
    "tags": []
   },
   "outputs": [
    {
     "data": {
      "text/html": [
       "<pre style=\"white-space:pre;overflow-x:auto;line-height:normal;font-family:Menlo,'DejaVu Sans Mono',consolas,'Courier New',monospace\"><span style=\"font-weight: bold\">Model: \"sequential\"</span>\n",
       "</pre>\n"
      ],
      "text/plain": [
       "\u001b[1mModel: \"sequential\"\u001b[0m\n"
      ]
     },
     "metadata": {},
     "output_type": "display_data"
    },
    {
     "data": {
      "text/html": [
       "<pre style=\"white-space:pre;overflow-x:auto;line-height:normal;font-family:Menlo,'DejaVu Sans Mono',consolas,'Courier New',monospace\">┏━━━━━━━━━━━━━━━━━━━━━━━━━━━━━━━━━┳━━━━━━━━━━━━━━━━━━━━━━━━┳━━━━━━━━━━━━━━━┓\n",
       "┃<span style=\"font-weight: bold\"> Layer (type)                    </span>┃<span style=\"font-weight: bold\"> Output Shape           </span>┃<span style=\"font-weight: bold\">       Param # </span>┃\n",
       "┡━━━━━━━━━━━━━━━━━━━━━━━━━━━━━━━━━╇━━━━━━━━━━━━━━━━━━━━━━━━╇━━━━━━━━━━━━━━━┩\n",
       "│ dense (<span style=\"color: #0087ff; text-decoration-color: #0087ff\">Dense</span>)                   │ (<span style=\"color: #00d7ff; text-decoration-color: #00d7ff\">None</span>, <span style=\"color: #00af00; text-decoration-color: #00af00\">11</span>)             │           <span style=\"color: #00af00; text-decoration-color: #00af00\">132</span> │\n",
       "├─────────────────────────────────┼────────────────────────┼───────────────┤\n",
       "│ dense_1 (<span style=\"color: #0087ff; text-decoration-color: #0087ff\">Dense</span>)                 │ (<span style=\"color: #00d7ff; text-decoration-color: #00d7ff\">None</span>, <span style=\"color: #00af00; text-decoration-color: #00af00\">11</span>)             │           <span style=\"color: #00af00; text-decoration-color: #00af00\">132</span> │\n",
       "├─────────────────────────────────┼────────────────────────┼───────────────┤\n",
       "│ dense_2 (<span style=\"color: #0087ff; text-decoration-color: #0087ff\">Dense</span>)                 │ (<span style=\"color: #00d7ff; text-decoration-color: #00d7ff\">None</span>, <span style=\"color: #00af00; text-decoration-color: #00af00\">1</span>)              │            <span style=\"color: #00af00; text-decoration-color: #00af00\">12</span> │\n",
       "└─────────────────────────────────┴────────────────────────┴───────────────┘\n",
       "</pre>\n"
      ],
      "text/plain": [
       "┏━━━━━━━━━━━━━━━━━━━━━━━━━━━━━━━━━┳━━━━━━━━━━━━━━━━━━━━━━━━┳━━━━━━━━━━━━━━━┓\n",
       "┃\u001b[1m \u001b[0m\u001b[1mLayer (type)                   \u001b[0m\u001b[1m \u001b[0m┃\u001b[1m \u001b[0m\u001b[1mOutput Shape          \u001b[0m\u001b[1m \u001b[0m┃\u001b[1m \u001b[0m\u001b[1m      Param #\u001b[0m\u001b[1m \u001b[0m┃\n",
       "┡━━━━━━━━━━━━━━━━━━━━━━━━━━━━━━━━━╇━━━━━━━━━━━━━━━━━━━━━━━━╇━━━━━━━━━━━━━━━┩\n",
       "│ dense (\u001b[38;5;33mDense\u001b[0m)                   │ (\u001b[38;5;45mNone\u001b[0m, \u001b[38;5;34m11\u001b[0m)             │           \u001b[38;5;34m132\u001b[0m │\n",
       "├─────────────────────────────────┼────────────────────────┼───────────────┤\n",
       "│ dense_1 (\u001b[38;5;33mDense\u001b[0m)                 │ (\u001b[38;5;45mNone\u001b[0m, \u001b[38;5;34m11\u001b[0m)             │           \u001b[38;5;34m132\u001b[0m │\n",
       "├─────────────────────────────────┼────────────────────────┼───────────────┤\n",
       "│ dense_2 (\u001b[38;5;33mDense\u001b[0m)                 │ (\u001b[38;5;45mNone\u001b[0m, \u001b[38;5;34m1\u001b[0m)              │            \u001b[38;5;34m12\u001b[0m │\n",
       "└─────────────────────────────────┴────────────────────────┴───────────────┘\n"
      ]
     },
     "metadata": {},
     "output_type": "display_data"
    },
    {
     "data": {
      "text/html": [
       "<pre style=\"white-space:pre;overflow-x:auto;line-height:normal;font-family:Menlo,'DejaVu Sans Mono',consolas,'Courier New',monospace\"><span style=\"font-weight: bold\"> Total params: </span><span style=\"color: #00af00; text-decoration-color: #00af00\">276</span> (1.08 KB)\n",
       "</pre>\n"
      ],
      "text/plain": [
       "\u001b[1m Total params: \u001b[0m\u001b[38;5;34m276\u001b[0m (1.08 KB)\n"
      ]
     },
     "metadata": {},
     "output_type": "display_data"
    },
    {
     "data": {
      "text/html": [
       "<pre style=\"white-space:pre;overflow-x:auto;line-height:normal;font-family:Menlo,'DejaVu Sans Mono',consolas,'Courier New',monospace\"><span style=\"font-weight: bold\"> Trainable params: </span><span style=\"color: #00af00; text-decoration-color: #00af00\">276</span> (1.08 KB)\n",
       "</pre>\n"
      ],
      "text/plain": [
       "\u001b[1m Trainable params: \u001b[0m\u001b[38;5;34m276\u001b[0m (1.08 KB)\n"
      ]
     },
     "metadata": {},
     "output_type": "display_data"
    },
    {
     "data": {
      "text/html": [
       "<pre style=\"white-space:pre;overflow-x:auto;line-height:normal;font-family:Menlo,'DejaVu Sans Mono',consolas,'Courier New',monospace\"><span style=\"font-weight: bold\"> Non-trainable params: </span><span style=\"color: #00af00; text-decoration-color: #00af00\">0</span> (0.00 B)\n",
       "</pre>\n"
      ],
      "text/plain": [
       "\u001b[1m Non-trainable params: \u001b[0m\u001b[38;5;34m0\u001b[0m (0.00 B)\n"
      ]
     },
     "metadata": {},
     "output_type": "display_data"
    }
   ],
   "source": [
    "model.summary()"
   ]
  },
  {
   "cell_type": "code",
   "execution_count": 25,
   "id": "cdcacbd5",
   "metadata": {
    "execution": {
     "iopub.execute_input": "2024-05-29T13:25:34.789764Z",
     "iopub.status.busy": "2024-05-29T13:25:34.789303Z",
     "iopub.status.idle": "2024-05-29T13:25:34.805960Z",
     "shell.execute_reply": "2024-05-29T13:25:34.804760Z"
    },
    "papermill": {
     "duration": 0.037506,
     "end_time": "2024-05-29T13:25:34.808658",
     "exception": false,
     "start_time": "2024-05-29T13:25:34.771152",
     "status": "completed"
    },
    "tags": []
   },
   "outputs": [],
   "source": [
    "model.compile(loss=\"binary_crossentropy\", optimizer=\"Adam\", metrics=[\"accuracy\"])"
   ]
  },
  {
   "cell_type": "code",
   "execution_count": 26,
   "id": "a36bbde0",
   "metadata": {
    "execution": {
     "iopub.execute_input": "2024-05-29T13:25:34.843815Z",
     "iopub.status.busy": "2024-05-29T13:25:34.843409Z",
     "iopub.status.idle": "2024-05-29T13:26:15.880437Z",
     "shell.execute_reply": "2024-05-29T13:26:15.879458Z"
    },
    "papermill": {
     "duration": 41.057697,
     "end_time": "2024-05-29T13:26:15.883176",
     "exception": false,
     "start_time": "2024-05-29T13:25:34.825479",
     "status": "completed"
    },
    "tags": []
   },
   "outputs": [
    {
     "name": "stdout",
     "output_type": "stream",
     "text": [
      "Epoch 1/100\n",
      "\u001b[1m200/200\u001b[0m \u001b[32m━━━━━━━━━━━━━━━━━━━━\u001b[0m\u001b[37m\u001b[0m \u001b[1m2s\u001b[0m 3ms/step - accuracy: 0.6544 - loss: 0.6400 - val_accuracy: 0.8006 - val_loss: 0.4917\n",
      "Epoch 2/100\n",
      "\u001b[1m200/200\u001b[0m \u001b[32m━━━━━━━━━━━━━━━━━━━━\u001b[0m\u001b[37m\u001b[0m \u001b[1m0s\u001b[0m 2ms/step - accuracy: 0.8021 - loss: 0.4707 - val_accuracy: 0.8112 - val_loss: 0.4516\n",
      "Epoch 3/100\n",
      "\u001b[1m200/200\u001b[0m \u001b[32m━━━━━━━━━━━━━━━━━━━━\u001b[0m\u001b[37m\u001b[0m \u001b[1m0s\u001b[0m 2ms/step - accuracy: 0.8123 - loss: 0.4371 - val_accuracy: 0.8138 - val_loss: 0.4399\n",
      "Epoch 4/100\n",
      "\u001b[1m200/200\u001b[0m \u001b[32m━━━━━━━━━━━━━━━━━━━━\u001b[0m\u001b[37m\u001b[0m \u001b[1m0s\u001b[0m 2ms/step - accuracy: 0.8110 - loss: 0.4363 - val_accuracy: 0.8181 - val_loss: 0.4311\n",
      "Epoch 5/100\n",
      "\u001b[1m200/200\u001b[0m \u001b[32m━━━━━━━━━━━━━━━━━━━━\u001b[0m\u001b[37m\u001b[0m \u001b[1m0s\u001b[0m 2ms/step - accuracy: 0.8262 - loss: 0.4267 - val_accuracy: 0.8169 - val_loss: 0.4215\n",
      "Epoch 6/100\n",
      "\u001b[1m200/200\u001b[0m \u001b[32m━━━━━━━━━━━━━━━━━━━━\u001b[0m\u001b[37m\u001b[0m \u001b[1m0s\u001b[0m 2ms/step - accuracy: 0.8305 - loss: 0.4043 - val_accuracy: 0.8231 - val_loss: 0.4115\n",
      "Epoch 7/100\n",
      "\u001b[1m200/200\u001b[0m \u001b[32m━━━━━━━━━━━━━━━━━━━━\u001b[0m\u001b[37m\u001b[0m \u001b[1m0s\u001b[0m 2ms/step - accuracy: 0.8359 - loss: 0.3968 - val_accuracy: 0.8238 - val_loss: 0.4012\n",
      "Epoch 8/100\n",
      "\u001b[1m200/200\u001b[0m \u001b[32m━━━━━━━━━━━━━━━━━━━━\u001b[0m\u001b[37m\u001b[0m \u001b[1m0s\u001b[0m 2ms/step - accuracy: 0.8345 - loss: 0.3930 - val_accuracy: 0.8306 - val_loss: 0.3922\n",
      "Epoch 9/100\n",
      "\u001b[1m200/200\u001b[0m \u001b[32m━━━━━━━━━━━━━━━━━━━━\u001b[0m\u001b[37m\u001b[0m \u001b[1m0s\u001b[0m 2ms/step - accuracy: 0.8373 - loss: 0.3830 - val_accuracy: 0.8319 - val_loss: 0.3829\n",
      "Epoch 10/100\n",
      "\u001b[1m200/200\u001b[0m \u001b[32m━━━━━━━━━━━━━━━━━━━━\u001b[0m\u001b[37m\u001b[0m \u001b[1m0s\u001b[0m 2ms/step - accuracy: 0.8427 - loss: 0.3734 - val_accuracy: 0.8381 - val_loss: 0.3741\n",
      "Epoch 11/100\n",
      "\u001b[1m200/200\u001b[0m \u001b[32m━━━━━━━━━━━━━━━━━━━━\u001b[0m\u001b[37m\u001b[0m \u001b[1m0s\u001b[0m 2ms/step - accuracy: 0.8508 - loss: 0.3694 - val_accuracy: 0.8475 - val_loss: 0.3660\n",
      "Epoch 12/100\n",
      "\u001b[1m200/200\u001b[0m \u001b[32m━━━━━━━━━━━━━━━━━━━━\u001b[0m\u001b[37m\u001b[0m \u001b[1m0s\u001b[0m 2ms/step - accuracy: 0.8430 - loss: 0.3810 - val_accuracy: 0.8425 - val_loss: 0.3652\n",
      "Epoch 13/100\n",
      "\u001b[1m200/200\u001b[0m \u001b[32m━━━━━━━━━━━━━━━━━━━━\u001b[0m\u001b[37m\u001b[0m \u001b[1m0s\u001b[0m 2ms/step - accuracy: 0.8533 - loss: 0.3587 - val_accuracy: 0.8475 - val_loss: 0.3567\n",
      "Epoch 14/100\n",
      "\u001b[1m200/200\u001b[0m \u001b[32m━━━━━━━━━━━━━━━━━━━━\u001b[0m\u001b[37m\u001b[0m \u001b[1m0s\u001b[0m 2ms/step - accuracy: 0.8604 - loss: 0.3540 - val_accuracy: 0.8519 - val_loss: 0.3530\n",
      "Epoch 15/100\n",
      "\u001b[1m200/200\u001b[0m \u001b[32m━━━━━━━━━━━━━━━━━━━━\u001b[0m\u001b[37m\u001b[0m \u001b[1m0s\u001b[0m 2ms/step - accuracy: 0.8547 - loss: 0.3538 - val_accuracy: 0.8525 - val_loss: 0.3515\n",
      "Epoch 16/100\n",
      "\u001b[1m200/200\u001b[0m \u001b[32m━━━━━━━━━━━━━━━━━━━━\u001b[0m\u001b[37m\u001b[0m \u001b[1m0s\u001b[0m 2ms/step - accuracy: 0.8665 - loss: 0.3372 - val_accuracy: 0.8519 - val_loss: 0.3524\n",
      "Epoch 17/100\n",
      "\u001b[1m200/200\u001b[0m \u001b[32m━━━━━━━━━━━━━━━━━━━━\u001b[0m\u001b[37m\u001b[0m \u001b[1m0s\u001b[0m 2ms/step - accuracy: 0.8575 - loss: 0.3507 - val_accuracy: 0.8531 - val_loss: 0.3491\n",
      "Epoch 18/100\n",
      "\u001b[1m200/200\u001b[0m \u001b[32m━━━━━━━━━━━━━━━━━━━━\u001b[0m\u001b[37m\u001b[0m \u001b[1m0s\u001b[0m 2ms/step - accuracy: 0.8610 - loss: 0.3406 - val_accuracy: 0.8525 - val_loss: 0.3465\n",
      "Epoch 19/100\n",
      "\u001b[1m200/200\u001b[0m \u001b[32m━━━━━━━━━━━━━━━━━━━━\u001b[0m\u001b[37m\u001b[0m \u001b[1m0s\u001b[0m 2ms/step - accuracy: 0.8646 - loss: 0.3417 - val_accuracy: 0.8556 - val_loss: 0.3457\n",
      "Epoch 20/100\n",
      "\u001b[1m200/200\u001b[0m \u001b[32m━━━━━━━━━━━━━━━━━━━━\u001b[0m\u001b[37m\u001b[0m \u001b[1m0s\u001b[0m 2ms/step - accuracy: 0.8593 - loss: 0.3491 - val_accuracy: 0.8556 - val_loss: 0.3462\n",
      "Epoch 21/100\n",
      "\u001b[1m200/200\u001b[0m \u001b[32m━━━━━━━━━━━━━━━━━━━━\u001b[0m\u001b[37m\u001b[0m \u001b[1m0s\u001b[0m 2ms/step - accuracy: 0.8642 - loss: 0.3311 - val_accuracy: 0.8537 - val_loss: 0.3478\n",
      "Epoch 22/100\n",
      "\u001b[1m200/200\u001b[0m \u001b[32m━━━━━━━━━━━━━━━━━━━━\u001b[0m\u001b[37m\u001b[0m \u001b[1m0s\u001b[0m 2ms/step - accuracy: 0.8603 - loss: 0.3432 - val_accuracy: 0.8506 - val_loss: 0.3456\n",
      "Epoch 23/100\n",
      "\u001b[1m200/200\u001b[0m \u001b[32m━━━━━━━━━━━━━━━━━━━━\u001b[0m\u001b[37m\u001b[0m \u001b[1m0s\u001b[0m 2ms/step - accuracy: 0.8678 - loss: 0.3366 - val_accuracy: 0.8525 - val_loss: 0.3468\n",
      "Epoch 24/100\n",
      "\u001b[1m200/200\u001b[0m \u001b[32m━━━━━━━━━━━━━━━━━━━━\u001b[0m\u001b[37m\u001b[0m \u001b[1m0s\u001b[0m 2ms/step - accuracy: 0.8591 - loss: 0.3363 - val_accuracy: 0.8544 - val_loss: 0.3471\n",
      "Epoch 25/100\n",
      "\u001b[1m200/200\u001b[0m \u001b[32m━━━━━━━━━━━━━━━━━━━━\u001b[0m\u001b[37m\u001b[0m \u001b[1m0s\u001b[0m 2ms/step - accuracy: 0.8720 - loss: 0.3306 - val_accuracy: 0.8575 - val_loss: 0.3429\n",
      "Epoch 26/100\n",
      "\u001b[1m200/200\u001b[0m \u001b[32m━━━━━━━━━━━━━━━━━━━━\u001b[0m\u001b[37m\u001b[0m \u001b[1m0s\u001b[0m 2ms/step - accuracy: 0.8643 - loss: 0.3326 - val_accuracy: 0.8556 - val_loss: 0.3428\n",
      "Epoch 27/100\n",
      "\u001b[1m200/200\u001b[0m \u001b[32m━━━━━━━━━━━━━━━━━━━━\u001b[0m\u001b[37m\u001b[0m \u001b[1m0s\u001b[0m 2ms/step - accuracy: 0.8709 - loss: 0.3242 - val_accuracy: 0.8562 - val_loss: 0.3426\n",
      "Epoch 28/100\n",
      "\u001b[1m200/200\u001b[0m \u001b[32m━━━━━━━━━━━━━━━━━━━━\u001b[0m\u001b[37m\u001b[0m \u001b[1m0s\u001b[0m 2ms/step - accuracy: 0.8688 - loss: 0.3314 - val_accuracy: 0.8575 - val_loss: 0.3421\n",
      "Epoch 29/100\n",
      "\u001b[1m200/200\u001b[0m \u001b[32m━━━━━━━━━━━━━━━━━━━━\u001b[0m\u001b[37m\u001b[0m \u001b[1m0s\u001b[0m 2ms/step - accuracy: 0.8633 - loss: 0.3390 - val_accuracy: 0.8562 - val_loss: 0.3420\n",
      "Epoch 30/100\n",
      "\u001b[1m200/200\u001b[0m \u001b[32m━━━━━━━━━━━━━━━━━━━━\u001b[0m\u001b[37m\u001b[0m \u001b[1m0s\u001b[0m 2ms/step - accuracy: 0.8630 - loss: 0.3392 - val_accuracy: 0.8537 - val_loss: 0.3453\n",
      "Epoch 31/100\n",
      "\u001b[1m200/200\u001b[0m \u001b[32m━━━━━━━━━━━━━━━━━━━━\u001b[0m\u001b[37m\u001b[0m \u001b[1m0s\u001b[0m 2ms/step - accuracy: 0.8645 - loss: 0.3327 - val_accuracy: 0.8544 - val_loss: 0.3441\n",
      "Epoch 32/100\n",
      "\u001b[1m200/200\u001b[0m \u001b[32m━━━━━━━━━━━━━━━━━━━━\u001b[0m\u001b[37m\u001b[0m \u001b[1m0s\u001b[0m 2ms/step - accuracy: 0.8668 - loss: 0.3341 - val_accuracy: 0.8569 - val_loss: 0.3423\n",
      "Epoch 33/100\n",
      "\u001b[1m200/200\u001b[0m \u001b[32m━━━━━━━━━━━━━━━━━━━━\u001b[0m\u001b[37m\u001b[0m \u001b[1m0s\u001b[0m 2ms/step - accuracy: 0.8605 - loss: 0.3401 - val_accuracy: 0.8537 - val_loss: 0.3421\n",
      "Epoch 34/100\n",
      "\u001b[1m200/200\u001b[0m \u001b[32m━━━━━━━━━━━━━━━━━━━━\u001b[0m\u001b[37m\u001b[0m \u001b[1m0s\u001b[0m 2ms/step - accuracy: 0.8627 - loss: 0.3427 - val_accuracy: 0.8562 - val_loss: 0.3426\n",
      "Epoch 35/100\n",
      "\u001b[1m200/200\u001b[0m \u001b[32m━━━━━━━━━━━━━━━━━━━━\u001b[0m\u001b[37m\u001b[0m \u001b[1m0s\u001b[0m 2ms/step - accuracy: 0.8665 - loss: 0.3364 - val_accuracy: 0.8556 - val_loss: 0.3431\n",
      "Epoch 36/100\n",
      "\u001b[1m200/200\u001b[0m \u001b[32m━━━━━━━━━━━━━━━━━━━━\u001b[0m\u001b[37m\u001b[0m \u001b[1m0s\u001b[0m 2ms/step - accuracy: 0.8708 - loss: 0.3272 - val_accuracy: 0.8537 - val_loss: 0.3426\n",
      "Epoch 37/100\n",
      "\u001b[1m200/200\u001b[0m \u001b[32m━━━━━━━━━━━━━━━━━━━━\u001b[0m\u001b[37m\u001b[0m \u001b[1m0s\u001b[0m 2ms/step - accuracy: 0.8703 - loss: 0.3201 - val_accuracy: 0.8569 - val_loss: 0.3426\n",
      "Epoch 38/100\n",
      "\u001b[1m200/200\u001b[0m \u001b[32m━━━━━━━━━━━━━━━━━━━━\u001b[0m\u001b[37m\u001b[0m \u001b[1m0s\u001b[0m 2ms/step - accuracy: 0.8729 - loss: 0.3219 - val_accuracy: 0.8537 - val_loss: 0.3439\n",
      "Epoch 39/100\n",
      "\u001b[1m200/200\u001b[0m \u001b[32m━━━━━━━━━━━━━━━━━━━━\u001b[0m\u001b[37m\u001b[0m \u001b[1m0s\u001b[0m 2ms/step - accuracy: 0.8620 - loss: 0.3320 - val_accuracy: 0.8562 - val_loss: 0.3417\n",
      "Epoch 40/100\n",
      "\u001b[1m200/200\u001b[0m \u001b[32m━━━━━━━━━━━━━━━━━━━━\u001b[0m\u001b[37m\u001b[0m \u001b[1m0s\u001b[0m 2ms/step - accuracy: 0.8577 - loss: 0.3405 - val_accuracy: 0.8556 - val_loss: 0.3429\n",
      "Epoch 41/100\n",
      "\u001b[1m200/200\u001b[0m \u001b[32m━━━━━━━━━━━━━━━━━━━━\u001b[0m\u001b[37m\u001b[0m \u001b[1m0s\u001b[0m 2ms/step - accuracy: 0.8661 - loss: 0.3248 - val_accuracy: 0.8531 - val_loss: 0.3419\n",
      "Epoch 42/100\n",
      "\u001b[1m200/200\u001b[0m \u001b[32m━━━━━━━━━━━━━━━━━━━━\u001b[0m\u001b[37m\u001b[0m \u001b[1m0s\u001b[0m 2ms/step - accuracy: 0.8659 - loss: 0.3309 - val_accuracy: 0.8556 - val_loss: 0.3416\n",
      "Epoch 43/100\n",
      "\u001b[1m200/200\u001b[0m \u001b[32m━━━━━━━━━━━━━━━━━━━━\u001b[0m\u001b[37m\u001b[0m \u001b[1m0s\u001b[0m 2ms/step - accuracy: 0.8678 - loss: 0.3260 - val_accuracy: 0.8537 - val_loss: 0.3437\n",
      "Epoch 44/100\n",
      "\u001b[1m200/200\u001b[0m \u001b[32m━━━━━━━━━━━━━━━━━━━━\u001b[0m\u001b[37m\u001b[0m \u001b[1m0s\u001b[0m 2ms/step - accuracy: 0.8645 - loss: 0.3253 - val_accuracy: 0.8562 - val_loss: 0.3407\n",
      "Epoch 45/100\n",
      "\u001b[1m200/200\u001b[0m \u001b[32m━━━━━━━━━━━━━━━━━━━━\u001b[0m\u001b[37m\u001b[0m \u001b[1m0s\u001b[0m 2ms/step - accuracy: 0.8630 - loss: 0.3282 - val_accuracy: 0.8556 - val_loss: 0.3418\n",
      "Epoch 46/100\n",
      "\u001b[1m200/200\u001b[0m \u001b[32m━━━━━━━━━━━━━━━━━━━━\u001b[0m\u001b[37m\u001b[0m \u001b[1m0s\u001b[0m 2ms/step - accuracy: 0.8681 - loss: 0.3269 - val_accuracy: 0.8537 - val_loss: 0.3406\n",
      "Epoch 47/100\n",
      "\u001b[1m200/200\u001b[0m \u001b[32m━━━━━━━━━━━━━━━━━━━━\u001b[0m\u001b[37m\u001b[0m \u001b[1m0s\u001b[0m 2ms/step - accuracy: 0.8665 - loss: 0.3315 - val_accuracy: 0.8556 - val_loss: 0.3427\n",
      "Epoch 48/100\n",
      "\u001b[1m200/200\u001b[0m \u001b[32m━━━━━━━━━━━━━━━━━━━━\u001b[0m\u001b[37m\u001b[0m \u001b[1m0s\u001b[0m 2ms/step - accuracy: 0.8625 - loss: 0.3284 - val_accuracy: 0.8519 - val_loss: 0.3444\n",
      "Epoch 49/100\n",
      "\u001b[1m200/200\u001b[0m \u001b[32m━━━━━━━━━━━━━━━━━━━━\u001b[0m\u001b[37m\u001b[0m \u001b[1m0s\u001b[0m 2ms/step - accuracy: 0.8671 - loss: 0.3326 - val_accuracy: 0.8519 - val_loss: 0.3443\n",
      "Epoch 50/100\n",
      "\u001b[1m200/200\u001b[0m \u001b[32m━━━━━━━━━━━━━━━━━━━━\u001b[0m\u001b[37m\u001b[0m \u001b[1m0s\u001b[0m 2ms/step - accuracy: 0.8747 - loss: 0.3120 - val_accuracy: 0.8537 - val_loss: 0.3424\n",
      "Epoch 51/100\n",
      "\u001b[1m200/200\u001b[0m \u001b[32m━━━━━━━━━━━━━━━━━━━━\u001b[0m\u001b[37m\u001b[0m \u001b[1m0s\u001b[0m 2ms/step - accuracy: 0.8768 - loss: 0.3198 - val_accuracy: 0.8556 - val_loss: 0.3403\n",
      "Epoch 52/100\n",
      "\u001b[1m200/200\u001b[0m \u001b[32m━━━━━━━━━━━━━━━━━━━━\u001b[0m\u001b[37m\u001b[0m \u001b[1m0s\u001b[0m 2ms/step - accuracy: 0.8677 - loss: 0.3298 - val_accuracy: 0.8500 - val_loss: 0.3446\n",
      "Epoch 53/100\n",
      "\u001b[1m200/200\u001b[0m \u001b[32m━━━━━━━━━━━━━━━━━━━━\u001b[0m\u001b[37m\u001b[0m \u001b[1m0s\u001b[0m 2ms/step - accuracy: 0.8678 - loss: 0.3276 - val_accuracy: 0.8556 - val_loss: 0.3428\n",
      "Epoch 54/100\n",
      "\u001b[1m200/200\u001b[0m \u001b[32m━━━━━━━━━━━━━━━━━━━━\u001b[0m\u001b[37m\u001b[0m \u001b[1m0s\u001b[0m 2ms/step - accuracy: 0.8573 - loss: 0.3341 - val_accuracy: 0.8556 - val_loss: 0.3413\n",
      "Epoch 55/100\n",
      "\u001b[1m200/200\u001b[0m \u001b[32m━━━━━━━━━━━━━━━━━━━━\u001b[0m\u001b[37m\u001b[0m \u001b[1m0s\u001b[0m 2ms/step - accuracy: 0.8713 - loss: 0.3232 - val_accuracy: 0.8531 - val_loss: 0.3417\n",
      "Epoch 56/100\n",
      "\u001b[1m200/200\u001b[0m \u001b[32m━━━━━━━━━━━━━━━━━━━━\u001b[0m\u001b[37m\u001b[0m \u001b[1m0s\u001b[0m 2ms/step - accuracy: 0.8724 - loss: 0.3241 - val_accuracy: 0.8531 - val_loss: 0.3398\n",
      "Epoch 57/100\n",
      "\u001b[1m200/200\u001b[0m \u001b[32m━━━━━━━━━━━━━━━━━━━━\u001b[0m\u001b[37m\u001b[0m \u001b[1m0s\u001b[0m 2ms/step - accuracy: 0.8697 - loss: 0.3229 - val_accuracy: 0.8544 - val_loss: 0.3406\n",
      "Epoch 58/100\n",
      "\u001b[1m200/200\u001b[0m \u001b[32m━━━━━━━━━━━━━━━━━━━━\u001b[0m\u001b[37m\u001b[0m \u001b[1m0s\u001b[0m 2ms/step - accuracy: 0.8647 - loss: 0.3309 - val_accuracy: 0.8562 - val_loss: 0.3419\n",
      "Epoch 59/100\n",
      "\u001b[1m200/200\u001b[0m \u001b[32m━━━━━━━━━━━━━━━━━━━━\u001b[0m\u001b[37m\u001b[0m \u001b[1m0s\u001b[0m 2ms/step - accuracy: 0.8727 - loss: 0.3196 - val_accuracy: 0.8556 - val_loss: 0.3402\n",
      "Epoch 60/100\n",
      "\u001b[1m200/200\u001b[0m \u001b[32m━━━━━━━━━━━━━━━━━━━━\u001b[0m\u001b[37m\u001b[0m \u001b[1m0s\u001b[0m 2ms/step - accuracy: 0.8680 - loss: 0.3272 - val_accuracy: 0.8550 - val_loss: 0.3426\n",
      "Epoch 61/100\n",
      "\u001b[1m200/200\u001b[0m \u001b[32m━━━━━━━━━━━━━━━━━━━━\u001b[0m\u001b[37m\u001b[0m \u001b[1m0s\u001b[0m 2ms/step - accuracy: 0.8703 - loss: 0.3222 - val_accuracy: 0.8550 - val_loss: 0.3408\n",
      "Epoch 62/100\n",
      "\u001b[1m200/200\u001b[0m \u001b[32m━━━━━━━━━━━━━━━━━━━━\u001b[0m\u001b[37m\u001b[0m \u001b[1m0s\u001b[0m 2ms/step - accuracy: 0.8679 - loss: 0.3250 - val_accuracy: 0.8531 - val_loss: 0.3403\n",
      "Epoch 63/100\n",
      "\u001b[1m200/200\u001b[0m \u001b[32m━━━━━━━━━━━━━━━━━━━━\u001b[0m\u001b[37m\u001b[0m \u001b[1m0s\u001b[0m 2ms/step - accuracy: 0.8699 - loss: 0.3237 - val_accuracy: 0.8537 - val_loss: 0.3429\n",
      "Epoch 64/100\n",
      "\u001b[1m200/200\u001b[0m \u001b[32m━━━━━━━━━━━━━━━━━━━━\u001b[0m\u001b[37m\u001b[0m \u001b[1m0s\u001b[0m 2ms/step - accuracy: 0.8605 - loss: 0.3325 - val_accuracy: 0.8550 - val_loss: 0.3424\n",
      "Epoch 65/100\n",
      "\u001b[1m200/200\u001b[0m \u001b[32m━━━━━━━━━━━━━━━━━━━━\u001b[0m\u001b[37m\u001b[0m \u001b[1m0s\u001b[0m 2ms/step - accuracy: 0.8707 - loss: 0.3211 - val_accuracy: 0.8544 - val_loss: 0.3423\n",
      "Epoch 66/100\n",
      "\u001b[1m200/200\u001b[0m \u001b[32m━━━━━━━━━━━━━━━━━━━━\u001b[0m\u001b[37m\u001b[0m \u001b[1m0s\u001b[0m 2ms/step - accuracy: 0.8680 - loss: 0.3148 - val_accuracy: 0.8550 - val_loss: 0.3422\n",
      "Epoch 67/100\n",
      "\u001b[1m200/200\u001b[0m \u001b[32m━━━━━━━━━━━━━━━━━━━━\u001b[0m\u001b[37m\u001b[0m \u001b[1m0s\u001b[0m 2ms/step - accuracy: 0.8632 - loss: 0.3323 - val_accuracy: 0.8556 - val_loss: 0.3429\n",
      "Epoch 68/100\n",
      "\u001b[1m200/200\u001b[0m \u001b[32m━━━━━━━━━━━━━━━━━━━━\u001b[0m\u001b[37m\u001b[0m \u001b[1m0s\u001b[0m 2ms/step - accuracy: 0.8657 - loss: 0.3260 - val_accuracy: 0.8569 - val_loss: 0.3423\n",
      "Epoch 69/100\n",
      "\u001b[1m200/200\u001b[0m \u001b[32m━━━━━━━━━━━━━━━━━━━━\u001b[0m\u001b[37m\u001b[0m \u001b[1m1s\u001b[0m 2ms/step - accuracy: 0.8709 - loss: 0.3207 - val_accuracy: 0.8581 - val_loss: 0.3416\n",
      "Epoch 70/100\n",
      "\u001b[1m200/200\u001b[0m \u001b[32m━━━━━━━━━━━━━━━━━━━━\u001b[0m\u001b[37m\u001b[0m \u001b[1m0s\u001b[0m 2ms/step - accuracy: 0.8754 - loss: 0.3152 - val_accuracy: 0.8531 - val_loss: 0.3427\n",
      "Epoch 71/100\n",
      "\u001b[1m200/200\u001b[0m \u001b[32m━━━━━━━━━━━━━━━━━━━━\u001b[0m\u001b[37m\u001b[0m \u001b[1m0s\u001b[0m 2ms/step - accuracy: 0.8695 - loss: 0.3191 - val_accuracy: 0.8556 - val_loss: 0.3422\n",
      "Epoch 72/100\n",
      "\u001b[1m200/200\u001b[0m \u001b[32m━━━━━━━━━━━━━━━━━━━━\u001b[0m\u001b[37m\u001b[0m \u001b[1m0s\u001b[0m 2ms/step - accuracy: 0.8670 - loss: 0.3200 - val_accuracy: 0.8544 - val_loss: 0.3414\n",
      "Epoch 73/100\n",
      "\u001b[1m200/200\u001b[0m \u001b[32m━━━━━━━━━━━━━━━━━━━━\u001b[0m\u001b[37m\u001b[0m \u001b[1m0s\u001b[0m 2ms/step - accuracy: 0.8697 - loss: 0.3285 - val_accuracy: 0.8550 - val_loss: 0.3416\n",
      "Epoch 74/100\n",
      "\u001b[1m200/200\u001b[0m \u001b[32m━━━━━━━━━━━━━━━━━━━━\u001b[0m\u001b[37m\u001b[0m \u001b[1m0s\u001b[0m 2ms/step - accuracy: 0.8667 - loss: 0.3198 - val_accuracy: 0.8556 - val_loss: 0.3439\n",
      "Epoch 75/100\n",
      "\u001b[1m200/200\u001b[0m \u001b[32m━━━━━━━━━━━━━━━━━━━━\u001b[0m\u001b[37m\u001b[0m \u001b[1m0s\u001b[0m 2ms/step - accuracy: 0.8693 - loss: 0.3220 - val_accuracy: 0.8556 - val_loss: 0.3415\n",
      "Epoch 76/100\n",
      "\u001b[1m200/200\u001b[0m \u001b[32m━━━━━━━━━━━━━━━━━━━━\u001b[0m\u001b[37m\u001b[0m \u001b[1m0s\u001b[0m 2ms/step - accuracy: 0.8699 - loss: 0.3262 - val_accuracy: 0.8544 - val_loss: 0.3431\n",
      "Epoch 77/100\n",
      "\u001b[1m200/200\u001b[0m \u001b[32m━━━━━━━━━━━━━━━━━━━━\u001b[0m\u001b[37m\u001b[0m \u001b[1m0s\u001b[0m 2ms/step - accuracy: 0.8643 - loss: 0.3326 - val_accuracy: 0.8575 - val_loss: 0.3408\n",
      "Epoch 78/100\n",
      "\u001b[1m200/200\u001b[0m \u001b[32m━━━━━━━━━━━━━━━━━━━━\u001b[0m\u001b[37m\u001b[0m \u001b[1m0s\u001b[0m 2ms/step - accuracy: 0.8662 - loss: 0.3239 - val_accuracy: 0.8550 - val_loss: 0.3430\n",
      "Epoch 79/100\n",
      "\u001b[1m200/200\u001b[0m \u001b[32m━━━━━━━━━━━━━━━━━━━━\u001b[0m\u001b[37m\u001b[0m \u001b[1m0s\u001b[0m 2ms/step - accuracy: 0.8676 - loss: 0.3303 - val_accuracy: 0.8581 - val_loss: 0.3426\n",
      "Epoch 80/100\n",
      "\u001b[1m200/200\u001b[0m \u001b[32m━━━━━━━━━━━━━━━━━━━━\u001b[0m\u001b[37m\u001b[0m \u001b[1m0s\u001b[0m 2ms/step - accuracy: 0.8641 - loss: 0.3276 - val_accuracy: 0.8556 - val_loss: 0.3419\n",
      "Epoch 81/100\n",
      "\u001b[1m200/200\u001b[0m \u001b[32m━━━━━━━━━━━━━━━━━━━━\u001b[0m\u001b[37m\u001b[0m \u001b[1m0s\u001b[0m 2ms/step - accuracy: 0.8769 - loss: 0.3112 - val_accuracy: 0.8575 - val_loss: 0.3416\n",
      "Epoch 82/100\n",
      "\u001b[1m200/200\u001b[0m \u001b[32m━━━━━━━━━━━━━━━━━━━━\u001b[0m\u001b[37m\u001b[0m \u001b[1m0s\u001b[0m 2ms/step - accuracy: 0.8677 - loss: 0.3212 - val_accuracy: 0.8519 - val_loss: 0.3419\n",
      "Epoch 83/100\n",
      "\u001b[1m200/200\u001b[0m \u001b[32m━━━━━━━━━━━━━━━━━━━━\u001b[0m\u001b[37m\u001b[0m \u001b[1m0s\u001b[0m 2ms/step - accuracy: 0.8648 - loss: 0.3284 - val_accuracy: 0.8525 - val_loss: 0.3429\n",
      "Epoch 84/100\n",
      "\u001b[1m200/200\u001b[0m \u001b[32m━━━━━━━━━━━━━━━━━━━━\u001b[0m\u001b[37m\u001b[0m \u001b[1m0s\u001b[0m 2ms/step - accuracy: 0.8790 - loss: 0.3055 - val_accuracy: 0.8531 - val_loss: 0.3419\n",
      "Epoch 85/100\n",
      "\u001b[1m200/200\u001b[0m \u001b[32m━━━━━━━━━━━━━━━━━━━━\u001b[0m\u001b[37m\u001b[0m \u001b[1m0s\u001b[0m 2ms/step - accuracy: 0.8657 - loss: 0.3243 - val_accuracy: 0.8537 - val_loss: 0.3434\n",
      "Epoch 86/100\n",
      "\u001b[1m200/200\u001b[0m \u001b[32m━━━━━━━━━━━━━━━━━━━━\u001b[0m\u001b[37m\u001b[0m \u001b[1m0s\u001b[0m 2ms/step - accuracy: 0.8644 - loss: 0.3224 - val_accuracy: 0.8537 - val_loss: 0.3420\n",
      "Epoch 87/100\n",
      "\u001b[1m200/200\u001b[0m \u001b[32m━━━━━━━━━━━━━━━━━━━━\u001b[0m\u001b[37m\u001b[0m \u001b[1m0s\u001b[0m 2ms/step - accuracy: 0.8711 - loss: 0.3170 - val_accuracy: 0.8556 - val_loss: 0.3415\n",
      "Epoch 88/100\n",
      "\u001b[1m200/200\u001b[0m \u001b[32m━━━━━━━━━━━━━━━━━━━━\u001b[0m\u001b[37m\u001b[0m \u001b[1m0s\u001b[0m 2ms/step - accuracy: 0.8721 - loss: 0.3162 - val_accuracy: 0.8525 - val_loss: 0.3427\n",
      "Epoch 89/100\n",
      "\u001b[1m200/200\u001b[0m \u001b[32m━━━━━━━━━━━━━━━━━━━━\u001b[0m\u001b[37m\u001b[0m \u001b[1m0s\u001b[0m 2ms/step - accuracy: 0.8699 - loss: 0.3239 - val_accuracy: 0.8575 - val_loss: 0.3414\n",
      "Epoch 90/100\n",
      "\u001b[1m200/200\u001b[0m \u001b[32m━━━━━━━━━━━━━━━━━━━━\u001b[0m\u001b[37m\u001b[0m \u001b[1m0s\u001b[0m 2ms/step - accuracy: 0.8761 - loss: 0.3187 - val_accuracy: 0.8562 - val_loss: 0.3406\n",
      "Epoch 91/100\n",
      "\u001b[1m200/200\u001b[0m \u001b[32m━━━━━━━━━━━━━━━━━━━━\u001b[0m\u001b[37m\u001b[0m \u001b[1m0s\u001b[0m 2ms/step - accuracy: 0.8720 - loss: 0.3144 - val_accuracy: 0.8562 - val_loss: 0.3415\n",
      "Epoch 92/100\n",
      "\u001b[1m200/200\u001b[0m \u001b[32m━━━━━━━━━━━━━━━━━━━━\u001b[0m\u001b[37m\u001b[0m \u001b[1m0s\u001b[0m 2ms/step - accuracy: 0.8668 - loss: 0.3299 - val_accuracy: 0.8531 - val_loss: 0.3432\n",
      "Epoch 93/100\n",
      "\u001b[1m200/200\u001b[0m \u001b[32m━━━━━━━━━━━━━━━━━━━━\u001b[0m\u001b[37m\u001b[0m \u001b[1m0s\u001b[0m 2ms/step - accuracy: 0.8645 - loss: 0.3398 - val_accuracy: 0.8525 - val_loss: 0.3435\n",
      "Epoch 94/100\n",
      "\u001b[1m200/200\u001b[0m \u001b[32m━━━━━━━━━━━━━━━━━━━━\u001b[0m\u001b[37m\u001b[0m \u001b[1m0s\u001b[0m 2ms/step - accuracy: 0.8658 - loss: 0.3256 - val_accuracy: 0.8556 - val_loss: 0.3421\n",
      "Epoch 95/100\n",
      "\u001b[1m200/200\u001b[0m \u001b[32m━━━━━━━━━━━━━━━━━━━━\u001b[0m\u001b[37m\u001b[0m \u001b[1m0s\u001b[0m 2ms/step - accuracy: 0.8677 - loss: 0.3239 - val_accuracy: 0.8506 - val_loss: 0.3451\n",
      "Epoch 96/100\n",
      "\u001b[1m200/200\u001b[0m \u001b[32m━━━━━━━━━━━━━━━━━━━━\u001b[0m\u001b[37m\u001b[0m \u001b[1m0s\u001b[0m 2ms/step - accuracy: 0.8711 - loss: 0.3242 - val_accuracy: 0.8569 - val_loss: 0.3426\n",
      "Epoch 97/100\n",
      "\u001b[1m200/200\u001b[0m \u001b[32m━━━━━━━━━━━━━━━━━━━━\u001b[0m\u001b[37m\u001b[0m \u001b[1m0s\u001b[0m 2ms/step - accuracy: 0.8691 - loss: 0.3182 - val_accuracy: 0.8506 - val_loss: 0.3437\n",
      "Epoch 98/100\n",
      "\u001b[1m200/200\u001b[0m \u001b[32m━━━━━━━━━━━━━━━━━━━━\u001b[0m\u001b[37m\u001b[0m \u001b[1m0s\u001b[0m 2ms/step - accuracy: 0.8673 - loss: 0.3252 - val_accuracy: 0.8525 - val_loss: 0.3444\n",
      "Epoch 99/100\n",
      "\u001b[1m200/200\u001b[0m \u001b[32m━━━━━━━━━━━━━━━━━━━━\u001b[0m\u001b[37m\u001b[0m \u001b[1m0s\u001b[0m 2ms/step - accuracy: 0.8680 - loss: 0.3288 - val_accuracy: 0.8569 - val_loss: 0.3424\n",
      "Epoch 100/100\n",
      "\u001b[1m200/200\u001b[0m \u001b[32m━━━━━━━━━━━━━━━━━━━━\u001b[0m\u001b[37m\u001b[0m \u001b[1m0s\u001b[0m 2ms/step - accuracy: 0.8635 - loss: 0.3278 - val_accuracy: 0.8537 - val_loss: 0.3446\n"
     ]
    }
   ],
   "source": [
    "history = model.fit(X_train_scaled, y_train, epochs=100, validation_split=0.2)"
   ]
  },
  {
   "cell_type": "markdown",
   "id": "a56fda18",
   "metadata": {
    "execution": {
     "iopub.execute_input": "2024-05-29T13:14:02.403063Z",
     "iopub.status.busy": "2024-05-29T13:14:02.402398Z",
     "iopub.status.idle": "2024-05-29T13:14:38.028796Z",
     "shell.execute_reply": "2024-05-29T13:14:38.027640Z",
     "shell.execute_reply.started": "2024-05-29T13:14:02.403029Z"
    },
    "papermill": {
     "duration": 0.156606,
     "end_time": "2024-05-29T13:26:16.131336",
     "exception": false,
     "start_time": "2024-05-29T13:26:15.974730",
     "status": "completed"
    },
    "tags": []
   },
   "source": [
    "history = model.fit(X_train_scaled, y_train, epochs=100, validation_split=0.2)"
   ]
  },
  {
   "cell_type": "code",
   "execution_count": 27,
   "id": "47b80155",
   "metadata": {
    "execution": {
     "iopub.execute_input": "2024-05-29T13:26:16.322938Z",
     "iopub.status.busy": "2024-05-29T13:26:16.321918Z",
     "iopub.status.idle": "2024-05-29T13:26:16.335178Z",
     "shell.execute_reply": "2024-05-29T13:26:16.334052Z"
    },
    "papermill": {
     "duration": 0.111971,
     "end_time": "2024-05-29T13:26:16.337791",
     "exception": false,
     "start_time": "2024-05-29T13:26:16.225820",
     "status": "completed"
    },
    "tags": []
   },
   "outputs": [
    {
     "data": {
      "text/plain": [
       "[array([[ 0.04525862, -0.02452884, -0.24151546, -0.31233647, -0.03452296,\n",
       "          0.29311982, -0.09551882, -0.465105  , -0.17993921, -0.02610819,\n",
       "         -0.0217115 ],\n",
       "        [-0.58598787, -0.33385065,  0.36703095,  0.50280505,  0.57222974,\n",
       "          0.28584108,  0.5972845 , -0.63070655, -0.61714023,  1.1431742 ,\n",
       "         -0.1540775 ],\n",
       "        [-0.1939819 ,  0.23111482,  0.0314952 , -0.14216617, -0.19464757,\n",
       "         -0.06682858,  0.21514693,  0.08073327,  0.26921377, -0.17635305,\n",
       "         -0.04610164],\n",
       "        [-0.13057533, -0.1708645 , -1.3215833 , -0.44264093,  0.45290083,\n",
       "         -0.22188058, -0.10329304,  0.5863434 , -0.5362351 , -0.12516916,\n",
       "         -0.5161084 ],\n",
       "        [ 0.01369847,  1.4013941 ,  0.15054674, -0.21462765, -1.3339419 ,\n",
       "         -0.19324966, -0.31760955,  0.44178122,  0.01493274,  0.6479803 ,\n",
       "         -1.1985425 ],\n",
       "        [-0.06947863,  0.01346753, -0.34494308,  0.32072842, -0.05627266,\n",
       "          0.10388152,  0.04965071, -0.08551952,  0.2613947 ,  0.05141638,\n",
       "          0.03572041],\n",
       "        [-0.34649423,  0.14897467, -0.28310204,  0.7418493 ,  0.24003024,\n",
       "          0.7207839 ,  1.2219048 , -0.25961238, -0.27915573, -0.2840962 ,\n",
       "         -0.35267127],\n",
       "        [ 0.03012214,  0.20982489,  0.49100587,  0.15298566,  0.29655078,\n",
       "          0.34956226,  0.10364878,  0.20537622, -0.20582113, -0.04234837,\n",
       "         -0.07957463],\n",
       "        [-0.0235806 , -0.2528329 , -0.5425316 ,  0.9564563 ,  0.15069796,\n",
       "         -0.25020134, -0.08057932,  0.6259446 , -0.7594468 ,  0.15489274,\n",
       "          0.26548123],\n",
       "        [-0.34783158,  0.47754502, -0.04704512,  0.25861177, -0.19829641,\n",
       "         -0.39842728,  0.08726724, -0.29778516,  0.57920986, -0.14534232,\n",
       "         -0.03914027],\n",
       "        [ 0.15119386, -0.15561914, -0.2348734 , -0.26018023,  0.32786778,\n",
       "          0.80697876,  0.06779864, -0.47844484, -0.19619504, -0.06133107,\n",
       "         -0.05146646]], dtype=float32),\n",
       " array([ 1.0014143 , -0.1857725 , -0.11488407,  0.00249484,  0.06607544,\n",
       "         0.3168413 , -0.03438491,  0.1451295 ,  0.43177724,  0.08092664,\n",
       "         0.0534032 ], dtype=float32)]"
      ]
     },
     "execution_count": 27,
     "metadata": {},
     "output_type": "execute_result"
    }
   ],
   "source": [
    "model.layers[0].get_weights()"
   ]
  },
  {
   "cell_type": "code",
   "execution_count": 28,
   "id": "8e6cf05f",
   "metadata": {
    "execution": {
     "iopub.execute_input": "2024-05-29T13:26:16.524372Z",
     "iopub.status.busy": "2024-05-29T13:26:16.523972Z",
     "iopub.status.idle": "2024-05-29T13:26:16.534684Z",
     "shell.execute_reply": "2024-05-29T13:26:16.533563Z"
    },
    "papermill": {
     "duration": 0.106743,
     "end_time": "2024-05-29T13:26:16.537317",
     "exception": false,
     "start_time": "2024-05-29T13:26:16.430574",
     "status": "completed"
    },
    "tags": []
   },
   "outputs": [
    {
     "data": {
      "text/plain": [
       "[array([[ 4.19985652e-01,  5.24185836e-01,  3.59553516e-01,\n",
       "         -1.51825562e-01,  1.49706369e-02, -3.21932584e-01,\n",
       "         -3.98720115e-01,  3.08784664e-01, -7.88979650e-01,\n",
       "          6.20033920e-01, -3.35676432e-01],\n",
       "        [ 8.36159289e-02,  2.03199074e-01,  3.30128014e-01,\n",
       "          1.67047903e-01,  4.40346241e-01,  8.80593956e-01,\n",
       "         -4.98246580e-01,  2.73182571e-01,  1.87717617e-01,\n",
       "         -4.04007077e-01, -4.93666887e-01],\n",
       "        [ 1.80922281e-02,  2.38000125e-01,  4.10843164e-01,\n",
       "          5.93840837e-01,  4.73437518e-01, -4.39082086e-01,\n",
       "          5.27408183e-01, -1.87917247e-01,  5.72289631e-04,\n",
       "          5.77196553e-02,  4.68309402e-01],\n",
       "        [-2.30338573e-01, -3.49201620e-01, -5.89210927e-01,\n",
       "         -1.34029731e-01, -2.70406753e-01,  3.92951220e-01,\n",
       "          2.36680731e-01,  2.37222552e-01, -3.18228334e-01,\n",
       "          4.98585522e-01,  3.08007389e-01],\n",
       "        [-5.33880591e-02,  1.32951308e-02, -6.52182251e-02,\n",
       "         -6.99166209e-03,  7.36618936e-01,  5.16262293e-01,\n",
       "         -1.25675589e-01,  4.01435703e-01,  2.85686761e-01,\n",
       "          4.19268072e-01,  5.37231326e-01],\n",
       "        [ 5.69462597e-01,  2.26276353e-01,  5.75601399e-01,\n",
       "          2.34681442e-01, -2.48649701e-01, -6.06441438e-01,\n",
       "         -1.40598696e-02,  4.81603816e-02,  1.85679033e-01,\n",
       "         -1.86373994e-01, -7.29647055e-02],\n",
       "        [ 7.37587452e-01, -1.48931354e-01,  8.47339034e-02,\n",
       "          4.18370962e-01, -2.32321069e-01, -4.31955159e-01,\n",
       "          5.66446424e-01,  4.05158192e-01,  1.92057878e-01,\n",
       "          6.41686559e-01,  2.35702410e-01],\n",
       "        [-7.54411936e-01,  4.16069835e-01,  2.15167269e-01,\n",
       "         -7.59093225e-01,  3.61334175e-01, -2.16122627e-01,\n",
       "         -4.19774950e-01, -1.74745709e-01,  3.39002669e-01,\n",
       "          1.85966060e-01, -3.53560388e-01],\n",
       "        [ 4.13557738e-01,  4.76645857e-01,  4.09567922e-01,\n",
       "          3.08499545e-01, -5.13788521e-01, -3.63932103e-01,\n",
       "         -8.84217441e-01, -1.13524966e-01,  2.42731854e-01,\n",
       "         -9.65890065e-02, -7.32271671e-02],\n",
       "        [-3.94022286e-01, -7.96800315e-01,  4.48420227e-01,\n",
       "          3.79249118e-02, -3.14024419e-01,  3.49975020e-01,\n",
       "         -8.76948655e-01,  4.39227998e-01,  7.58373439e-01,\n",
       "          6.86360747e-02, -8.23984087e-01],\n",
       "        [ 2.50198364e-01, -4.28486228e-01,  7.57359147e-01,\n",
       "         -1.32724881e+00,  8.33497569e-02, -1.19085208e-01,\n",
       "          1.39992803e-01, -3.56790245e-01,  6.58312917e-01,\n",
       "         -3.28808635e-01, -3.38005871e-01]], dtype=float32),\n",
       " array([ 0.30923527,  0.7897016 , -0.24994907,  0.11338436, -0.30601093,\n",
       "         0.09551542, -0.01621244,  0.28123328, -0.14800309,  0.33245298,\n",
       "         0.11902943], dtype=float32)]"
      ]
     },
     "execution_count": 28,
     "metadata": {},
     "output_type": "execute_result"
    }
   ],
   "source": [
    "model.layers[1].get_weights()"
   ]
  },
  {
   "cell_type": "code",
   "execution_count": 29,
   "id": "5914fd27",
   "metadata": {
    "execution": {
     "iopub.execute_input": "2024-05-29T13:26:16.725384Z",
     "iopub.status.busy": "2024-05-29T13:26:16.724974Z",
     "iopub.status.idle": "2024-05-29T13:26:16.998154Z",
     "shell.execute_reply": "2024-05-29T13:26:16.996897Z"
    },
    "papermill": {
     "duration": 0.370298,
     "end_time": "2024-05-29T13:26:17.000994",
     "exception": false,
     "start_time": "2024-05-29T13:26:16.630696",
     "status": "completed"
    },
    "tags": []
   },
   "outputs": [
    {
     "name": "stdout",
     "output_type": "stream",
     "text": [
      "\u001b[1m63/63\u001b[0m \u001b[32m━━━━━━━━━━━━━━━━━━━━\u001b[0m\u001b[37m\u001b[0m \u001b[1m0s\u001b[0m 2ms/step\n"
     ]
    }
   ],
   "source": [
    "y_log = model.predict(X_test_scaled)"
   ]
  },
  {
   "cell_type": "code",
   "execution_count": 30,
   "id": "5cbd4351",
   "metadata": {
    "execution": {
     "iopub.execute_input": "2024-05-29T13:26:17.191492Z",
     "iopub.status.busy": "2024-05-29T13:26:17.191061Z",
     "iopub.status.idle": "2024-05-29T13:26:17.198897Z",
     "shell.execute_reply": "2024-05-29T13:26:17.197700Z"
    },
    "papermill": {
     "duration": 0.107027,
     "end_time": "2024-05-29T13:26:17.201388",
     "exception": false,
     "start_time": "2024-05-29T13:26:17.094361",
     "status": "completed"
    },
    "tags": []
   },
   "outputs": [
    {
     "data": {
      "text/plain": [
       "array([[0.02109709],\n",
       "       [0.06060088],\n",
       "       [0.02665536],\n",
       "       ...,\n",
       "       [0.00442545],\n",
       "       [0.03348817],\n",
       "       [0.36197975]], dtype=float32)"
      ]
     },
     "execution_count": 30,
     "metadata": {},
     "output_type": "execute_result"
    }
   ],
   "source": [
    "y_log"
   ]
  },
  {
   "cell_type": "code",
   "execution_count": 31,
   "id": "c50812e4",
   "metadata": {
    "execution": {
     "iopub.execute_input": "2024-05-29T13:26:17.389265Z",
     "iopub.status.busy": "2024-05-29T13:26:17.388864Z",
     "iopub.status.idle": "2024-05-29T13:26:17.394391Z",
     "shell.execute_reply": "2024-05-29T13:26:17.393292Z"
    },
    "papermill": {
     "duration": 0.101785,
     "end_time": "2024-05-29T13:26:17.396769",
     "exception": false,
     "start_time": "2024-05-29T13:26:17.294984",
     "status": "completed"
    },
    "tags": []
   },
   "outputs": [],
   "source": [
    "y_pred = np.where(y_log > 0.5, 1, 0)"
   ]
  },
  {
   "cell_type": "code",
   "execution_count": 32,
   "id": "37ed9ec1",
   "metadata": {
    "execution": {
     "iopub.execute_input": "2024-05-29T13:26:17.584853Z",
     "iopub.status.busy": "2024-05-29T13:26:17.584454Z",
     "iopub.status.idle": "2024-05-29T13:26:17.591799Z",
     "shell.execute_reply": "2024-05-29T13:26:17.590683Z"
    },
    "papermill": {
     "duration": 0.103772,
     "end_time": "2024-05-29T13:26:17.594062",
     "exception": false,
     "start_time": "2024-05-29T13:26:17.490290",
     "status": "completed"
    },
    "tags": []
   },
   "outputs": [
    {
     "data": {
      "text/plain": [
       "array([[0],\n",
       "       [0],\n",
       "       [0],\n",
       "       ...,\n",
       "       [0],\n",
       "       [0],\n",
       "       [0]])"
      ]
     },
     "execution_count": 32,
     "metadata": {},
     "output_type": "execute_result"
    }
   ],
   "source": [
    "y_pred"
   ]
  },
  {
   "cell_type": "code",
   "execution_count": 33,
   "id": "ad116656",
   "metadata": {
    "execution": {
     "iopub.execute_input": "2024-05-29T13:26:17.782335Z",
     "iopub.status.busy": "2024-05-29T13:26:17.781923Z",
     "iopub.status.idle": "2024-05-29T13:26:17.791926Z",
     "shell.execute_reply": "2024-05-29T13:26:17.790673Z"
    },
    "papermill": {
     "duration": 0.106954,
     "end_time": "2024-05-29T13:26:17.794385",
     "exception": false,
     "start_time": "2024-05-29T13:26:17.687431",
     "status": "completed"
    },
    "tags": []
   },
   "outputs": [
    {
     "data": {
      "text/plain": [
       "0.864"
      ]
     },
     "execution_count": 33,
     "metadata": {},
     "output_type": "execute_result"
    }
   ],
   "source": [
    "from sklearn.metrics import accuracy_score\n",
    "\n",
    "accuracy_score(y_test,y_pred)"
   ]
  },
  {
   "cell_type": "code",
   "execution_count": 34,
   "id": "a2d2e2f3",
   "metadata": {
    "execution": {
     "iopub.execute_input": "2024-05-29T13:26:17.984336Z",
     "iopub.status.busy": "2024-05-29T13:26:17.983245Z",
     "iopub.status.idle": "2024-05-29T13:26:17.988490Z",
     "shell.execute_reply": "2024-05-29T13:26:17.987251Z"
    },
    "papermill": {
     "duration": 0.102105,
     "end_time": "2024-05-29T13:26:17.991054",
     "exception": false,
     "start_time": "2024-05-29T13:26:17.888949",
     "status": "completed"
    },
    "tags": []
   },
   "outputs": [],
   "source": [
    "import matplotlib.pyplot as plt"
   ]
  },
  {
   "cell_type": "code",
   "execution_count": 35,
   "id": "025d6f8a",
   "metadata": {
    "execution": {
     "iopub.execute_input": "2024-05-29T13:26:18.183306Z",
     "iopub.status.busy": "2024-05-29T13:26:18.182320Z",
     "iopub.status.idle": "2024-05-29T13:26:18.477772Z",
     "shell.execute_reply": "2024-05-29T13:26:18.476463Z"
    },
    "papermill": {
     "duration": 0.394584,
     "end_time": "2024-05-29T13:26:18.480400",
     "exception": false,
     "start_time": "2024-05-29T13:26:18.085816",
     "status": "completed"
    },
    "tags": []
   },
   "outputs": [
    {
     "data": {
      "text/plain": [
       "[<matplotlib.lines.Line2D at 0x7f77485c33d0>]"
      ]
     },
     "execution_count": 35,
     "metadata": {},
     "output_type": "execute_result"
    },
    {
     "data": {
      "image/png": "[encoded data removed]",
      "text/plain": [
       "<Figure size 640x480 with 1 Axes>"
      ]
     },
     "metadata": {},
     "output_type": "display_data"
    }
   ],
   "source": [
    "plt.plot(history.history[\"loss\"])\n",
    "plt.plot(history.history[\"val_loss\"])"
   ]
  },
  {
   "cell_type": "code",
   "execution_count": 36,
   "id": "b12ee880",
   "metadata": {
    "execution": {
     "iopub.execute_input": "2024-05-29T13:26:18.670703Z",
     "iopub.status.busy": "2024-05-29T13:26:18.670265Z",
     "iopub.status.idle": "2024-05-29T13:26:18.950937Z",
     "shell.execute_reply": "2024-05-29T13:26:18.949877Z"
    },
    "papermill": {
     "duration": 0.379069,
     "end_time": "2024-05-29T13:26:18.953553",
     "exception": false,
     "start_time": "2024-05-29T13:26:18.574484",
     "status": "completed"
    },
    "tags": []
   },
   "outputs": [
    {
     "data": {
      "text/plain": [
       "[<matplotlib.lines.Line2D at 0x7f77484ec9d0>]"
      ]
     },
     "execution_count": 36,
     "metadata": {},
     "output_type": "execute_result"
    },
    {
     "data": {
      "image/png": "[encoded data removed]",
      "text/plain": [
       "<Figure size 640x480 with 1 Axes>"
      ]
     },
     "metadata": {},
     "output_type": "display_data"
    }
   ],
   "source": [
    "plt.plot(history.history[\"accuracy\"])\n",
    "plt.plot(history.history[\"val_accuracy\"])"
   ]
  },
  {
   "cell_type": "code",
   "execution_count": null,
   "id": "ad94af34",
   "metadata": {
    "papermill": {
     "duration": 0.099247,
     "end_time": "2024-05-29T13:26:19.150187",
     "exception": false,
     "start_time": "2024-05-29T13:26:19.050940",
     "status": "completed"
    },
    "tags": []
   },
   "outputs": [],
   "source": []
  }
 ],
 "metadata": {
  "kaggle": {
   "accelerator": "none",
   "dataSources": [
    {
     "datasetId": 869651,
     "sourceId": 1481789,
     "sourceType": "datasetVersion"
    }
   ],
   "dockerImageVersionId": 30698,
   "isGpuEnabled": false,
   "isInternetEnabled": false,
   "language": "python",
   "sourceType": "notebook"
  },
  "kernelspec": {
   "display_name": "Python 3",
   "language": "python",
   "name": "python3"
  },
  "language_info": {
   "codemirror_mode": {
    "name": "ipython",
    "version": 3
   },
   "file_extension": ".py",
   "mimetype": "text/x-python",
   "name": "python",
   "nbconvert_exporter": "python",
   "pygments_lexer": "ipython3",
   "version": "3.10.13"
  },
  "papermill": {
   "default_parameters": {},
   "duration": 66.93504,
   "end_time": "2024-05-29T13:26:20.874943",
   "environment_variables": {},
   "exception": null,
   "input_path": "__notebook__.ipynb",
   "output_path": "__notebook__.ipynb",
   "parameters": {},
   "start_time": "2024-05-29T13:25:13.939903",
   "version": "2.5.0"
  }
 },
 "nbformat": 4,
 "nbformat_minor": 5
}
